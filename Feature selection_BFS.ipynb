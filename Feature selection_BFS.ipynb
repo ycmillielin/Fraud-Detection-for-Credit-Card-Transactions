{
 "cells": [
  {
   "cell_type": "markdown",
   "metadata": {},
   "source": [
    "\n",
    "The feature selection notebook does a filter followed by a wrapper. It's capable of doing the filter on more than one file. The variable files are called vars1.csv, vars2.csv ...\n",
    "\n",
    "The filter runs separately on each vars file and keeps the top num_filter variables from each file. If there are more than one vars files we'll again select the top num_filter variables across all the vars.csv files.\n",
    "\n",
    "If balance = 0 the entire files are used. If balance != 0 then balance is the ratio of goods to bads retained for the rest of the feature selection. We keep all the rare class (bads) and downsample the goods. "
   ]
  },
  {
   "cell_type": "code",
   "execution_count": 1,
   "metadata": {
    "ExecuteTime": {
     "end_time": "2022-04-13T23:53:10.082907Z",
     "start_time": "2022-04-13T23:53:03.031764Z"
    },
    "scrolled": false
   },
   "outputs": [],
   "source": [
    "# load libraries\n",
    "# %pip install mlxtend\n",
    "# %pip install lightgbm\n",
    "\n",
    "import pandas as pd\n",
    "import numpy as np\n",
    "import scipy.stats as sps\n",
    "import matplotlib.pyplot as plt\n",
    "import datetime as dt\n",
    "import gc\n",
    "from sklearn.ensemble import RandomForestClassifier\n",
    "from mlxtend.feature_selection import SequentialFeatureSelector as SFS\n",
    "from lightgbm import LGBMClassifier\n",
    "\n",
    "from sklearn.feature_selection import SelectKBest\n",
    "from sklearn.feature_selection import chi2\n",
    "\n",
    "from sklearn.feature_selection import RFE\n",
    "\n",
    "from mlxtend.feature_selection import ExhaustiveFeatureSelector\n",
    "\n",
    "%matplotlib inline\n",
    "start_time = dt.datetime.now()"
   ]
  },
  {
   "cell_type": "code",
   "execution_count": 2,
   "metadata": {
    "ExecuteTime": {
     "end_time": "2022-04-13T23:53:10.124133Z",
     "start_time": "2022-04-13T23:53:10.116326Z"
    }
   },
   "outputs": [],
   "source": [
    "# set some parameters\n",
    "num_files = 1\n",
    "num_filter = 80\n",
    "num_wrapper = 20\n",
    "balance = 0\n",
    "detect_rate = .03\n",
    "index_name = 'Recnum'\n",
    "y_name = 'Fraud'\n",
    "# index_name = 'record'\n",
    "# y_name = 'fraud_label'\n",
    "good_label = 0\n",
    "bad_label = 1"
   ]
  },
  {
   "cell_type": "markdown",
   "metadata": {},
   "source": [
    "## Run a filter on all the files"
   ]
  },
  {
   "cell_type": "code",
   "execution_count": 3,
   "metadata": {
    "ExecuteTime": {
     "end_time": "2022-04-13T23:53:55.516073Z",
     "start_time": "2022-04-13T23:53:10.138563Z"
    }
   },
   "outputs": [
    {
     "name": "stdout",
     "output_type": "stream",
     "text": [
      "********** working on vars.csv size is (96397, 515)\n",
      "100\n",
      "200\n",
      "300\n",
      "400\n",
      "500\n",
      "vars.csv                 variable     score\n",
      "1                  Fraud  1.000000\n",
      "309     card_zip_total_7  0.684729\n",
      "357   card_merch_total_7  0.681017\n",
      "301     card_zip_total_3  0.677675\n",
      "349   card_merch_total_3  0.675054\n",
      "365  card_merch_total_14  0.674867\n",
      "253   card_state_total_3  0.674178\n",
      "317    card_zip_total_14  0.672277\n",
      "261   card_state_total_7  0.669661\n",
      "269  card_state_total_14  0.668943\n",
      "293     card_zip_total_1  0.660589\n",
      "245   card_state_total_1  0.659137\n",
      "373  card_merch_total_30  0.658264\n",
      "341   card_merch_total_1  0.658215\n",
      "315      card_zip_max_14  0.657954\n",
      "307       card_zip_max_7  0.657548\n",
      "325    card_zip_total_30  0.656706\n",
      "363    card_merch_max_14  0.654180\n",
      "323      card_zip_max_30  0.651397\n",
      "355     card_merch_max_7  0.650624\n",
      "CPU times: user 12.9 s, sys: 2.04 s, total: 14.9 s\n",
      "Wall time: 15.2 s\n"
     ]
    }
   ],
   "source": [
    "\n",
    "%%time\n",
    "filter_score_df_list = []\n",
    "for i in range(num_files):\n",
    "#     file_name = \"vars\"+str(i+1)+'.csv'\n",
    "    file_name = 'vars.csv'\n",
    "    df = pd.read_csv(file_name,index_col = [0])\n",
    "#     df = df.drop(columns=['Date', 'Amount'])\n",
    "    print(\"********** working on\",file_name,\"size is\",df.shape)\n",
    "    df = df.set_index(index_name) \n",
    "    df = df[df.index <= 84300] # remove the last two months as the out-of-time data (OOT)\n",
    "    df = df[df.index >= 2995] # remove the first 2 weeks of records since their variables aren't well formed\n",
    "    df['RANDOM'] = np.random.ranf(len(df)) # add a random number variable to make sure it doesn't come up as important\n",
    "    goods = df[df[y_name] == good_label]\n",
    "    bads = df[df[y_name] == bad_label]\n",
    "    del df # don't need this file anymore\n",
    "    num_goods = len(goods)\n",
    "    num_bads = len(bads)\n",
    "    num_vars = len(bads.columns)-2\n",
    "    if(balance != 0):\n",
    "        if(i == 0):\n",
    "            num_goods_desired = int(min(num_goods,num_bads*balance))\n",
    "            goods = goods.sample(n=num_goods_desired,random_state=1)\n",
    "            goods_keep = list(goods.index)\n",
    "            goods_keep.sort()\n",
    "    \n",
    "        if(i > 0):\n",
    "            goods = goods.loc[goods_keep] \n",
    "            \n",
    "    df_sampled = pd.concat([goods,bads])\n",
    "    df_sampled.sort_index(inplace=True)\n",
    "    filter_score = pd.DataFrame(np.zeros((num_vars+1,2)))\n",
    "    filter_score.columns = ['variable','score']   \n",
    "    j = 0\n",
    "    for column in df_sampled:\n",
    "        filter_score.loc[j,'variable'] = column\n",
    "        filter_score.loc[j,'score'] = sps.ks_2samp(goods[column],bads[column])[0]\n",
    "        j = j+1\n",
    "        if j%100 == 0:\n",
    "            print(j)\n",
    "\n",
    "    filter_score.sort_values(by=['score'], ascending=False, inplace=True)\n",
    "    vars_keep = list(filter_score['variable'][1:num_filter+1]) \n",
    "    print(file_name,filter_score.head(20))\n",
    "    if(i == 0): # if first time through need to initialize some stuff\n",
    "        Y = pd.DataFrame(df_sampled[y_name], index=df_sampled.index)\n",
    "        df_top = df_sampled.filter(vars_keep, axis=1)\n",
    "            \n",
    "    if(i > 0): # if more than one variable file we use this loop\n",
    "        data_new_top = df_sampled.filter(vars_keep, axis=1)\n",
    "        df_top = pd.concat([df_top,data_new_top], axis=1)\n",
    "    \n",
    "    \"\"\"\n",
    "    Not that it matters a lot but I usually put the dataframes in a list and concatenate them after coming out of loop.\n",
    "    Someone at my previous organization said that it was more efficient but I did not check the efficiency benefit myself.\n",
    "    \"\"\"\n",
    "#     filter_score = pd.concat([filter_score,new])\n",
    "    filter_score_df_list.append(filter_score)\n",
    "    \n",
    "    del goods # delete these before starting the next file, if any\n",
    "    del bads\n",
    "    gc.collect()\n",
    "filter_score = pd.concat(filter_score_df_list)"
   ]
  },
  {
   "cell_type": "code",
   "execution_count": 4,
   "metadata": {
    "ExecuteTime": {
     "end_time": "2022-04-13T23:53:55.635547Z",
     "start_time": "2022-04-13T23:53:55.530150Z"
    }
   },
   "outputs": [],
   "source": [
    "filter_score.sort_values(by=['score'], ascending=False, inplace=True)"
   ]
  },
  {
   "cell_type": "code",
   "execution_count": 5,
   "metadata": {
    "ExecuteTime": {
     "end_time": "2022-04-13T23:53:55.740943Z",
     "start_time": "2022-04-13T23:53:55.651755Z"
    }
   },
   "outputs": [
    {
     "data": {
      "text/html": [
       "<div>\n",
       "<style scoped>\n",
       "    .dataframe tbody tr th:only-of-type {\n",
       "        vertical-align: middle;\n",
       "    }\n",
       "\n",
       "    .dataframe tbody tr th {\n",
       "        vertical-align: top;\n",
       "    }\n",
       "\n",
       "    .dataframe thead th {\n",
       "        text-align: right;\n",
       "    }\n",
       "</style>\n",
       "<table border=\"1\" class=\"dataframe\">\n",
       "  <thead>\n",
       "    <tr style=\"text-align: right;\">\n",
       "      <th></th>\n",
       "      <th>variable</th>\n",
       "      <th>score</th>\n",
       "    </tr>\n",
       "  </thead>\n",
       "  <tbody>\n",
       "    <tr>\n",
       "      <th>1</th>\n",
       "      <td>Fraud</td>\n",
       "      <td>1.000000</td>\n",
       "    </tr>\n",
       "    <tr>\n",
       "      <th>309</th>\n",
       "      <td>card_zip_total_7</td>\n",
       "      <td>0.684729</td>\n",
       "    </tr>\n",
       "    <tr>\n",
       "      <th>357</th>\n",
       "      <td>card_merch_total_7</td>\n",
       "      <td>0.681017</td>\n",
       "    </tr>\n",
       "    <tr>\n",
       "      <th>301</th>\n",
       "      <td>card_zip_total_3</td>\n",
       "      <td>0.677675</td>\n",
       "    </tr>\n",
       "    <tr>\n",
       "      <th>349</th>\n",
       "      <td>card_merch_total_3</td>\n",
       "      <td>0.675054</td>\n",
       "    </tr>\n",
       "    <tr>\n",
       "      <th>365</th>\n",
       "      <td>card_merch_total_14</td>\n",
       "      <td>0.674867</td>\n",
       "    </tr>\n",
       "    <tr>\n",
       "      <th>253</th>\n",
       "      <td>card_state_total_3</td>\n",
       "      <td>0.674178</td>\n",
       "    </tr>\n",
       "    <tr>\n",
       "      <th>317</th>\n",
       "      <td>card_zip_total_14</td>\n",
       "      <td>0.672277</td>\n",
       "    </tr>\n",
       "    <tr>\n",
       "      <th>261</th>\n",
       "      <td>card_state_total_7</td>\n",
       "      <td>0.669661</td>\n",
       "    </tr>\n",
       "    <tr>\n",
       "      <th>269</th>\n",
       "      <td>card_state_total_14</td>\n",
       "      <td>0.668943</td>\n",
       "    </tr>\n",
       "    <tr>\n",
       "      <th>293</th>\n",
       "      <td>card_zip_total_1</td>\n",
       "      <td>0.660589</td>\n",
       "    </tr>\n",
       "    <tr>\n",
       "      <th>245</th>\n",
       "      <td>card_state_total_1</td>\n",
       "      <td>0.659137</td>\n",
       "    </tr>\n",
       "    <tr>\n",
       "      <th>373</th>\n",
       "      <td>card_merch_total_30</td>\n",
       "      <td>0.658264</td>\n",
       "    </tr>\n",
       "    <tr>\n",
       "      <th>341</th>\n",
       "      <td>card_merch_total_1</td>\n",
       "      <td>0.658215</td>\n",
       "    </tr>\n",
       "    <tr>\n",
       "      <th>315</th>\n",
       "      <td>card_zip_max_14</td>\n",
       "      <td>0.657954</td>\n",
       "    </tr>\n",
       "    <tr>\n",
       "      <th>307</th>\n",
       "      <td>card_zip_max_7</td>\n",
       "      <td>0.657548</td>\n",
       "    </tr>\n",
       "    <tr>\n",
       "      <th>325</th>\n",
       "      <td>card_zip_total_30</td>\n",
       "      <td>0.656706</td>\n",
       "    </tr>\n",
       "    <tr>\n",
       "      <th>363</th>\n",
       "      <td>card_merch_max_14</td>\n",
       "      <td>0.654180</td>\n",
       "    </tr>\n",
       "    <tr>\n",
       "      <th>323</th>\n",
       "      <td>card_zip_max_30</td>\n",
       "      <td>0.651397</td>\n",
       "    </tr>\n",
       "    <tr>\n",
       "      <th>355</th>\n",
       "      <td>card_merch_max_7</td>\n",
       "      <td>0.650624</td>\n",
       "    </tr>\n",
       "    <tr>\n",
       "      <th>299</th>\n",
       "      <td>card_zip_max_3</td>\n",
       "      <td>0.649824</td>\n",
       "    </tr>\n",
       "    <tr>\n",
       "      <th>371</th>\n",
       "      <td>card_merch_max_30</td>\n",
       "      <td>0.649691</td>\n",
       "    </tr>\n",
       "    <tr>\n",
       "      <th>251</th>\n",
       "      <td>card_state_max_3</td>\n",
       "      <td>0.647986</td>\n",
       "    </tr>\n",
       "    <tr>\n",
       "      <th>259</th>\n",
       "      <td>card_state_max_7</td>\n",
       "      <td>0.647087</td>\n",
       "    </tr>\n",
       "    <tr>\n",
       "      <th>347</th>\n",
       "      <td>card_merch_max_3</td>\n",
       "      <td>0.644909</td>\n",
       "    </tr>\n",
       "    <tr>\n",
       "      <th>277</th>\n",
       "      <td>card_state_total_30</td>\n",
       "      <td>0.635398</td>\n",
       "    </tr>\n",
       "    <tr>\n",
       "      <th>267</th>\n",
       "      <td>card_state_max_14</td>\n",
       "      <td>0.630402</td>\n",
       "    </tr>\n",
       "    <tr>\n",
       "      <th>291</th>\n",
       "      <td>card_zip_max_1</td>\n",
       "      <td>0.626269</td>\n",
       "    </tr>\n",
       "    <tr>\n",
       "      <th>243</th>\n",
       "      <td>card_state_max_1</td>\n",
       "      <td>0.625770</td>\n",
       "    </tr>\n",
       "    <tr>\n",
       "      <th>339</th>\n",
       "      <td>card_merch_max_1</td>\n",
       "      <td>0.620805</td>\n",
       "    </tr>\n",
       "  </tbody>\n",
       "</table>\n",
       "</div>"
      ],
      "text/plain": [
       "                variable     score\n",
       "1                  Fraud  1.000000\n",
       "309     card_zip_total_7  0.684729\n",
       "357   card_merch_total_7  0.681017\n",
       "301     card_zip_total_3  0.677675\n",
       "349   card_merch_total_3  0.675054\n",
       "365  card_merch_total_14  0.674867\n",
       "253   card_state_total_3  0.674178\n",
       "317    card_zip_total_14  0.672277\n",
       "261   card_state_total_7  0.669661\n",
       "269  card_state_total_14  0.668943\n",
       "293     card_zip_total_1  0.660589\n",
       "245   card_state_total_1  0.659137\n",
       "373  card_merch_total_30  0.658264\n",
       "341   card_merch_total_1  0.658215\n",
       "315      card_zip_max_14  0.657954\n",
       "307       card_zip_max_7  0.657548\n",
       "325    card_zip_total_30  0.656706\n",
       "363    card_merch_max_14  0.654180\n",
       "323      card_zip_max_30  0.651397\n",
       "355     card_merch_max_7  0.650624\n",
       "299       card_zip_max_3  0.649824\n",
       "371    card_merch_max_30  0.649691\n",
       "251     card_state_max_3  0.647986\n",
       "259     card_state_max_7  0.647087\n",
       "347     card_merch_max_3  0.644909\n",
       "277  card_state_total_30  0.635398\n",
       "267    card_state_max_14  0.630402\n",
       "291       card_zip_max_1  0.626269\n",
       "243     card_state_max_1  0.625770\n",
       "339     card_merch_max_1  0.620805"
      ]
     },
     "execution_count": 5,
     "metadata": {},
     "output_type": "execute_result"
    }
   ],
   "source": [
    "filter_score.head(30)"
   ]
  },
  {
   "cell_type": "code",
   "execution_count": 6,
   "metadata": {
    "ExecuteTime": {
     "end_time": "2022-04-13T23:53:55.777692Z",
     "start_time": "2022-04-13T23:53:55.749785Z"
    }
   },
   "outputs": [
    {
     "data": {
      "text/html": [
       "<div>\n",
       "<style scoped>\n",
       "    .dataframe tbody tr th:only-of-type {\n",
       "        vertical-align: middle;\n",
       "    }\n",
       "\n",
       "    .dataframe tbody tr th {\n",
       "        vertical-align: top;\n",
       "    }\n",
       "\n",
       "    .dataframe thead th {\n",
       "        text-align: right;\n",
       "    }\n",
       "</style>\n",
       "<table border=\"1\" class=\"dataframe\">\n",
       "  <thead>\n",
       "    <tr style=\"text-align: right;\">\n",
       "      <th></th>\n",
       "      <th>variable</th>\n",
       "      <th>score</th>\n",
       "    </tr>\n",
       "  </thead>\n",
       "  <tbody>\n",
       "    <tr>\n",
       "      <th>36</th>\n",
       "      <td>card_amount_count_0</td>\n",
       "      <td>0.070419</td>\n",
       "    </tr>\n",
       "    <tr>\n",
       "      <th>103</th>\n",
       "      <td>card_amount_count_1_by_7</td>\n",
       "      <td>0.067253</td>\n",
       "    </tr>\n",
       "    <tr>\n",
       "      <th>497</th>\n",
       "      <td>Merchnum_unique_count_for_Cardnum_1</td>\n",
       "      <td>0.063108</td>\n",
       "    </tr>\n",
       "    <tr>\n",
       "      <th>496</th>\n",
       "      <td>Merchnum_unique_count_for_Cardnum_0</td>\n",
       "      <td>0.060309</td>\n",
       "    </tr>\n",
       "    <tr>\n",
       "      <th>120</th>\n",
       "      <td>card_merch_count_1_by_14</td>\n",
       "      <td>0.060124</td>\n",
       "    </tr>\n",
       "    <tr>\n",
       "      <th>87</th>\n",
       "      <td>card_state_count_1_by_7</td>\n",
       "      <td>0.055453</td>\n",
       "    </tr>\n",
       "    <tr>\n",
       "      <th>98</th>\n",
       "      <td>card_amount_count_0_by_3</td>\n",
       "      <td>0.045219</td>\n",
       "    </tr>\n",
       "    <tr>\n",
       "      <th>514</th>\n",
       "      <td>RANDOM</td>\n",
       "      <td>0.033366</td>\n",
       "    </tr>\n",
       "    <tr>\n",
       "      <th>102</th>\n",
       "      <td>card_amount_count_1_by_3</td>\n",
       "      <td>0.032728</td>\n",
       "    </tr>\n",
       "    <tr>\n",
       "      <th>508</th>\n",
       "      <td>Amount_unique_count_for_Merchnum_0</td>\n",
       "      <td>0.029418</td>\n",
       "    </tr>\n",
       "  </tbody>\n",
       "</table>\n",
       "</div>"
      ],
      "text/plain": [
       "                                variable     score\n",
       "36                   card_amount_count_0  0.070419\n",
       "103             card_amount_count_1_by_7  0.067253\n",
       "497  Merchnum_unique_count_for_Cardnum_1  0.063108\n",
       "496  Merchnum_unique_count_for_Cardnum_0  0.060309\n",
       "120             card_merch_count_1_by_14  0.060124\n",
       "87               card_state_count_1_by_7  0.055453\n",
       "98              card_amount_count_0_by_3  0.045219\n",
       "514                               RANDOM  0.033366\n",
       "102             card_amount_count_1_by_3  0.032728\n",
       "508   Amount_unique_count_for_Merchnum_0  0.029418"
      ]
     },
     "execution_count": 6,
     "metadata": {},
     "output_type": "execute_result"
    }
   ],
   "source": [
    "filter_score.tail(10)"
   ]
  },
  {
   "cell_type": "code",
   "execution_count": 7,
   "metadata": {
    "ExecuteTime": {
     "end_time": "2022-04-13T23:53:55.802953Z",
     "start_time": "2022-04-13T23:53:55.789777Z"
    }
   },
   "outputs": [
    {
     "data": {
      "text/plain": [
       "(515, 2)"
      ]
     },
     "execution_count": 7,
     "metadata": {},
     "output_type": "execute_result"
    }
   ],
   "source": [
    "filter_score.shape"
   ]
  },
  {
   "cell_type": "code",
   "execution_count": 8,
   "metadata": {
    "ExecuteTime": {
     "end_time": "2022-04-13T23:53:55.873008Z",
     "start_time": "2022-04-13T23:53:55.809367Z"
    }
   },
   "outputs": [
    {
     "name": "stdout",
     "output_type": "stream",
     "text": [
      " vars_keep: ['card_zip_total_7', 'card_merch_total_7', 'card_zip_total_3', 'card_merch_total_3', 'card_merch_total_14', 'card_state_total_3', 'card_zip_total_14', 'card_state_total_7', 'card_state_total_14', 'card_zip_total_1', 'card_state_total_1', 'card_merch_total_30', 'card_merch_total_1', 'card_zip_max_14', 'card_zip_max_7', 'card_zip_total_30', 'card_merch_max_14', 'card_zip_max_30', 'card_merch_max_7', 'card_zip_max_3', 'card_merch_max_30', 'card_state_max_3', 'card_state_max_7', 'card_merch_max_3', 'card_state_total_30', 'card_state_max_14', 'card_zip_max_1', 'card_state_max_1', 'card_merch_max_1', 'merch_state_total_3', 'card_merch_total_0', 'card_state_total_0', 'card_zip_total_0', 'merch_state_max_0', 'merch_state_total_1', 'card_zip_max_0', 'card_state_max_0', 'merch_zip_total_3', 'Cardnum_total_3', 'card_zip_avg_30', 'merch_zip_max_0', 'card_merch_max_0', 'Cardnum_total_7', 'merch_zip_total_1', 'card_state_max_30', 'Merchnum_max_0', 'card_zip_avg_14', 'card_merch_avg_30', 'card_zip_avg_7', 'merch_state_max_1', 'card_zip_avg_3', 'card_merch_avg_3', 'Merchnum_total_3', 'card_merch_avg_14', 'card_state_avg_3', 'card_merch_avg_7', 'merch_zip_max_1', 'card_state_avg_7', 'Merchnum_total_1', 'Cardnum_max_0', 'card_state_avg_1', 'merch_state_avg_0', 'card_zip_avg_1', 'merch_state_total_0', 'merch_state_total_7', 'merch_zip_avg_0', 'Merchnum_avg_0', 'Cardnum_total_1', 'card_merch_avg_1', 'merch_state_avg_1', 'merch_state_max_3', 'Merchnum_max_1', 'merch_zip_avg_1', 'merch_zip_total_0', 'card_merch_avg_0', 'card_zip_avg_0', 'merch_zip_max_3', 'card_state_avg_14', 'Merchnum_avg_1', 'card_state_avg_0', 'Cardnum_avg_1', 'Cardnum_total_0']\n"
     ]
    }
   ],
   "source": [
    "filter_score.sort_values(by=['score'], ascending=False, inplace=True)\n",
    "vars_keep = list(filter_score['variable'][num_files:num_filter+3])\n",
    "print(' vars_keep:',vars_keep)"
   ]
  },
  {
   "cell_type": "code",
   "execution_count": 9,
   "metadata": {
    "ExecuteTime": {
     "end_time": "2022-04-13T23:53:56.072296Z",
     "start_time": "2022-04-13T23:53:55.931367Z"
    },
    "scrolled": false
   },
   "outputs": [
    {
     "data": {
      "text/html": [
       "<div>\n",
       "<style scoped>\n",
       "    .dataframe tbody tr th:only-of-type {\n",
       "        vertical-align: middle;\n",
       "    }\n",
       "\n",
       "    .dataframe tbody tr th {\n",
       "        vertical-align: top;\n",
       "    }\n",
       "\n",
       "    .dataframe thead th {\n",
       "        text-align: right;\n",
       "    }\n",
       "</style>\n",
       "<table border=\"1\" class=\"dataframe\">\n",
       "  <thead>\n",
       "    <tr style=\"text-align: right;\">\n",
       "      <th></th>\n",
       "      <th>card_zip_total_7</th>\n",
       "      <th>card_merch_total_7</th>\n",
       "      <th>card_zip_total_3</th>\n",
       "      <th>card_merch_total_3</th>\n",
       "      <th>card_merch_total_14</th>\n",
       "      <th>card_state_total_3</th>\n",
       "      <th>card_zip_total_14</th>\n",
       "      <th>card_state_total_7</th>\n",
       "      <th>card_state_total_14</th>\n",
       "      <th>card_zip_total_1</th>\n",
       "      <th>...</th>\n",
       "      <th>merch_state_max_3</th>\n",
       "      <th>Merchnum_max_1</th>\n",
       "      <th>merch_zip_avg_1</th>\n",
       "      <th>merch_zip_total_0</th>\n",
       "      <th>card_merch_avg_0</th>\n",
       "      <th>card_zip_avg_0</th>\n",
       "      <th>merch_zip_max_3</th>\n",
       "      <th>card_state_avg_14</th>\n",
       "      <th>Merchnum_avg_1</th>\n",
       "      <th>card_state_avg_0</th>\n",
       "    </tr>\n",
       "    <tr>\n",
       "      <th>Recnum</th>\n",
       "      <th></th>\n",
       "      <th></th>\n",
       "      <th></th>\n",
       "      <th></th>\n",
       "      <th></th>\n",
       "      <th></th>\n",
       "      <th></th>\n",
       "      <th></th>\n",
       "      <th></th>\n",
       "      <th></th>\n",
       "      <th></th>\n",
       "      <th></th>\n",
       "      <th></th>\n",
       "      <th></th>\n",
       "      <th></th>\n",
       "      <th></th>\n",
       "      <th></th>\n",
       "      <th></th>\n",
       "      <th></th>\n",
       "      <th></th>\n",
       "      <th></th>\n",
       "    </tr>\n",
       "  </thead>\n",
       "  <tbody>\n",
       "    <tr>\n",
       "      <th>2995</th>\n",
       "      <td>1023.04</td>\n",
       "      <td>1023.04</td>\n",
       "      <td>174.20</td>\n",
       "      <td>174.20</td>\n",
       "      <td>1023.04</td>\n",
       "      <td>174.20</td>\n",
       "      <td>1023.04</td>\n",
       "      <td>1023.04</td>\n",
       "      <td>1023.04</td>\n",
       "      <td>174.20</td>\n",
       "      <td>...</td>\n",
       "      <td>2454.99</td>\n",
       "      <td>174.20</td>\n",
       "      <td>174.2000</td>\n",
       "      <td>174.20</td>\n",
       "      <td>174.20</td>\n",
       "      <td>174.20</td>\n",
       "      <td>2454.99</td>\n",
       "      <td>341.013333</td>\n",
       "      <td>174.2000</td>\n",
       "      <td>174.20</td>\n",
       "    </tr>\n",
       "    <tr>\n",
       "      <th>2996</th>\n",
       "      <td>250.00</td>\n",
       "      <td>250.00</td>\n",
       "      <td>250.00</td>\n",
       "      <td>250.00</td>\n",
       "      <td>250.00</td>\n",
       "      <td>250.00</td>\n",
       "      <td>250.00</td>\n",
       "      <td>250.00</td>\n",
       "      <td>250.00</td>\n",
       "      <td>250.00</td>\n",
       "      <td>...</td>\n",
       "      <td>250.00</td>\n",
       "      <td>250.00</td>\n",
       "      <td>250.0000</td>\n",
       "      <td>250.00</td>\n",
       "      <td>250.00</td>\n",
       "      <td>250.00</td>\n",
       "      <td>250.00</td>\n",
       "      <td>250.000000</td>\n",
       "      <td>250.0000</td>\n",
       "      <td>250.00</td>\n",
       "    </tr>\n",
       "    <tr>\n",
       "      <th>2997</th>\n",
       "      <td>76.85</td>\n",
       "      <td>76.85</td>\n",
       "      <td>76.85</td>\n",
       "      <td>76.85</td>\n",
       "      <td>76.85</td>\n",
       "      <td>76.85</td>\n",
       "      <td>76.85</td>\n",
       "      <td>76.85</td>\n",
       "      <td>76.85</td>\n",
       "      <td>53.88</td>\n",
       "      <td>...</td>\n",
       "      <td>1097.60</td>\n",
       "      <td>999.90</td>\n",
       "      <td>223.3100</td>\n",
       "      <td>53.88</td>\n",
       "      <td>53.88</td>\n",
       "      <td>53.88</td>\n",
       "      <td>1097.60</td>\n",
       "      <td>38.425000</td>\n",
       "      <td>223.3100</td>\n",
       "      <td>53.88</td>\n",
       "    </tr>\n",
       "    <tr>\n",
       "      <th>2998</th>\n",
       "      <td>1269.00</td>\n",
       "      <td>1269.00</td>\n",
       "      <td>1269.00</td>\n",
       "      <td>1269.00</td>\n",
       "      <td>1269.00</td>\n",
       "      <td>1269.00</td>\n",
       "      <td>1269.00</td>\n",
       "      <td>1269.00</td>\n",
       "      <td>1269.00</td>\n",
       "      <td>1269.00</td>\n",
       "      <td>...</td>\n",
       "      <td>2237.00</td>\n",
       "      <td>1269.00</td>\n",
       "      <td>370.3375</td>\n",
       "      <td>1269.00</td>\n",
       "      <td>1269.00</td>\n",
       "      <td>1269.00</td>\n",
       "      <td>2237.00</td>\n",
       "      <td>1269.000000</td>\n",
       "      <td>370.3375</td>\n",
       "      <td>1269.00</td>\n",
       "    </tr>\n",
       "    <tr>\n",
       "      <th>2999</th>\n",
       "      <td>288.38</td>\n",
       "      <td>288.38</td>\n",
       "      <td>288.38</td>\n",
       "      <td>288.38</td>\n",
       "      <td>288.38</td>\n",
       "      <td>288.38</td>\n",
       "      <td>288.38</td>\n",
       "      <td>288.38</td>\n",
       "      <td>288.38</td>\n",
       "      <td>288.38</td>\n",
       "      <td>...</td>\n",
       "      <td>601.52</td>\n",
       "      <td>601.52</td>\n",
       "      <td>396.5600</td>\n",
       "      <td>288.38</td>\n",
       "      <td>288.38</td>\n",
       "      <td>288.38</td>\n",
       "      <td>601.52</td>\n",
       "      <td>288.380000</td>\n",
       "      <td>396.5600</td>\n",
       "      <td>288.38</td>\n",
       "    </tr>\n",
       "  </tbody>\n",
       "</table>\n",
       "<p>5 rows × 80 columns</p>\n",
       "</div>"
      ],
      "text/plain": [
       "        card_zip_total_7  card_merch_total_7  card_zip_total_3  \\\n",
       "Recnum                                                           \n",
       "2995             1023.04             1023.04            174.20   \n",
       "2996              250.00              250.00            250.00   \n",
       "2997               76.85               76.85             76.85   \n",
       "2998             1269.00             1269.00           1269.00   \n",
       "2999              288.38              288.38            288.38   \n",
       "\n",
       "        card_merch_total_3  card_merch_total_14  card_state_total_3  \\\n",
       "Recnum                                                                \n",
       "2995                174.20              1023.04              174.20   \n",
       "2996                250.00               250.00              250.00   \n",
       "2997                 76.85                76.85               76.85   \n",
       "2998               1269.00              1269.00             1269.00   \n",
       "2999                288.38               288.38              288.38   \n",
       "\n",
       "        card_zip_total_14  card_state_total_7  card_state_total_14  \\\n",
       "Recnum                                                               \n",
       "2995              1023.04             1023.04              1023.04   \n",
       "2996               250.00              250.00               250.00   \n",
       "2997                76.85               76.85                76.85   \n",
       "2998              1269.00             1269.00              1269.00   \n",
       "2999               288.38              288.38               288.38   \n",
       "\n",
       "        card_zip_total_1  ...  merch_state_max_3  Merchnum_max_1  \\\n",
       "Recnum                    ...                                      \n",
       "2995              174.20  ...            2454.99          174.20   \n",
       "2996              250.00  ...             250.00          250.00   \n",
       "2997               53.88  ...            1097.60          999.90   \n",
       "2998             1269.00  ...            2237.00         1269.00   \n",
       "2999              288.38  ...             601.52          601.52   \n",
       "\n",
       "        merch_zip_avg_1  merch_zip_total_0  card_merch_avg_0  card_zip_avg_0  \\\n",
       "Recnum                                                                         \n",
       "2995           174.2000             174.20            174.20          174.20   \n",
       "2996           250.0000             250.00            250.00          250.00   \n",
       "2997           223.3100              53.88             53.88           53.88   \n",
       "2998           370.3375            1269.00           1269.00         1269.00   \n",
       "2999           396.5600             288.38            288.38          288.38   \n",
       "\n",
       "        merch_zip_max_3  card_state_avg_14  Merchnum_avg_1  card_state_avg_0  \n",
       "Recnum                                                                        \n",
       "2995            2454.99         341.013333        174.2000            174.20  \n",
       "2996             250.00         250.000000        250.0000            250.00  \n",
       "2997            1097.60          38.425000        223.3100             53.88  \n",
       "2998            2237.00        1269.000000        370.3375           1269.00  \n",
       "2999             601.52         288.380000        396.5600            288.38  \n",
       "\n",
       "[5 rows x 80 columns]"
      ]
     },
     "execution_count": 9,
     "metadata": {},
     "output_type": "execute_result"
    }
   ],
   "source": [
    "vars_keep_df = pd.DataFrame({'col':vars_keep})\n",
    "vars_keep_df.to_csv('vars_keep_filter.csv',index=False)\n",
    "df_keep = df_top.filter(vars_keep, axis=1)\n",
    "df_keep.head()"
   ]
  },
  {
   "cell_type": "code",
   "execution_count": 10,
   "metadata": {
    "ExecuteTime": {
     "end_time": "2022-04-13T23:53:56.122451Z",
     "start_time": "2022-04-13T23:53:56.106007Z"
    }
   },
   "outputs": [
    {
     "data": {
      "text/plain": [
       "(80983, 80)"
      ]
     },
     "execution_count": 10,
     "metadata": {},
     "output_type": "execute_result"
    }
   ],
   "source": [
    "df_keep.shape"
   ]
  },
  {
   "cell_type": "code",
   "execution_count": 11,
   "metadata": {
    "ExecuteTime": {
     "end_time": "2022-04-13T23:53:56.155548Z",
     "start_time": "2022-04-13T23:53:56.130705Z"
    }
   },
   "outputs": [
    {
     "data": {
      "text/html": [
       "<div>\n",
       "<style scoped>\n",
       "    .dataframe tbody tr th:only-of-type {\n",
       "        vertical-align: middle;\n",
       "    }\n",
       "\n",
       "    .dataframe tbody tr th {\n",
       "        vertical-align: top;\n",
       "    }\n",
       "\n",
       "    .dataframe thead th {\n",
       "        text-align: right;\n",
       "    }\n",
       "</style>\n",
       "<table border=\"1\" class=\"dataframe\">\n",
       "  <thead>\n",
       "    <tr style=\"text-align: right;\">\n",
       "      <th></th>\n",
       "      <th>Fraud</th>\n",
       "    </tr>\n",
       "    <tr>\n",
       "      <th>Recnum</th>\n",
       "      <th></th>\n",
       "    </tr>\n",
       "  </thead>\n",
       "  <tbody>\n",
       "    <tr>\n",
       "      <th>2995</th>\n",
       "      <td>0</td>\n",
       "    </tr>\n",
       "    <tr>\n",
       "      <th>2996</th>\n",
       "      <td>0</td>\n",
       "    </tr>\n",
       "    <tr>\n",
       "      <th>2997</th>\n",
       "      <td>0</td>\n",
       "    </tr>\n",
       "    <tr>\n",
       "      <th>2998</th>\n",
       "      <td>0</td>\n",
       "    </tr>\n",
       "    <tr>\n",
       "      <th>2999</th>\n",
       "      <td>0</td>\n",
       "    </tr>\n",
       "  </tbody>\n",
       "</table>\n",
       "</div>"
      ],
      "text/plain": [
       "        Fraud\n",
       "Recnum       \n",
       "2995        0\n",
       "2996        0\n",
       "2997        0\n",
       "2998        0\n",
       "2999        0"
      ]
     },
     "execution_count": 11,
     "metadata": {},
     "output_type": "execute_result"
    }
   ],
   "source": [
    "Y.head()"
   ]
  },
  {
   "cell_type": "code",
   "execution_count": 12,
   "metadata": {
    "ExecuteTime": {
     "end_time": "2022-04-13T23:53:56.175528Z",
     "start_time": "2022-04-13T23:53:56.165316Z"
    }
   },
   "outputs": [],
   "source": [
    "Y = Y.values\n",
    "Y_save = Y.copy()"
   ]
  },
  {
   "cell_type": "code",
   "execution_count": 13,
   "metadata": {
    "ExecuteTime": {
     "end_time": "2022-04-13T23:53:56.194939Z",
     "start_time": "2022-04-13T23:53:56.184716Z"
    }
   },
   "outputs": [
    {
     "name": "stdout",
     "output_type": "stream",
     "text": [
      "[[0]\n",
      " [0]\n",
      " [0]\n",
      " ...\n",
      " [0]\n",
      " [0]\n",
      " [0]]\n"
     ]
    }
   ],
   "source": [
    "# Y = np.array(Y)\n",
    "X = df_keep\n",
    "print(Y)"
   ]
  },
  {
   "cell_type": "code",
   "execution_count": 14,
   "metadata": {
    "ExecuteTime": {
     "end_time": "2022-04-13T23:53:56.222841Z",
     "start_time": "2022-04-13T23:53:56.208079Z"
    }
   },
   "outputs": [
    {
     "name": "stdout",
     "output_type": "stream",
     "text": [
      "time to here: 0:00:15.317031\n"
     ]
    }
   ],
   "source": [
    "print('time to here:', dt.datetime.now() - start_time)"
   ]
  },
  {
   "cell_type": "code",
   "execution_count": 15,
   "metadata": {
    "ExecuteTime": {
     "end_time": "2022-04-13T23:53:56.244979Z",
     "start_time": "2022-04-13T23:53:56.236225Z"
    }
   },
   "outputs": [
    {
     "name": "stdout",
     "output_type": "stream",
     "text": [
      "(80983, 80) (80983, 1)\n"
     ]
    }
   ],
   "source": [
    "print(X.shape,Y.shape)"
   ]
  },
  {
   "cell_type": "code",
   "execution_count": 16,
   "metadata": {
    "ExecuteTime": {
     "end_time": "2022-04-13T23:53:56.264133Z",
     "start_time": "2022-04-13T23:53:56.254284Z"
    }
   },
   "outputs": [
    {
     "name": "stdout",
     "output_type": "stream",
     "text": [
      "<class 'pandas.core.frame.DataFrame'> <class 'numpy.ndarray'>\n"
     ]
    }
   ],
   "source": [
    "print(type(X),type(Y))"
   ]
  },
  {
   "cell_type": "code",
   "execution_count": 17,
   "metadata": {
    "ExecuteTime": {
     "end_time": "2022-04-13T23:53:56.278096Z",
     "start_time": "2022-04-13T23:53:56.271748Z"
    }
   },
   "outputs": [],
   "source": [
    "# I'd like to define a scoring for the wrapper that's KS, but I haven't gotten around to this yet.\n",
    "# def KSscore(classifier, x,y)\n",
    "#     goods = "
   ]
  },
  {
   "cell_type": "code",
   "execution_count": 18,
   "metadata": {
    "ExecuteTime": {
     "end_time": "2022-04-13T23:53:56.306663Z",
     "start_time": "2022-04-13T23:53:56.290482Z"
    }
   },
   "outputs": [],
   "source": [
    "def fdr(classifier, x, y, cutoff=detect_rate):\n",
    "# Calculates FDR score for the given classifier on dataset x and y with cutoff value\n",
    "# get the probability list from the given classifier\n",
    "    return fdr_prob(y, classifier.predict_proba(x), cutoff)\n",
    "def fdr_prob(y, y_prob, cutoff=detect_rate):\n",
    "    if len(y_prob.shape) != 1:    # sometimes the proba list can contain many columns, one for each category\n",
    "        y_prob = y_prob[:, -1:]   # only the last one (fraud_label==1) is used here.\n",
    "    num_fraud = len(y[y == 1])    # count the total nunber of frauds   \n",
    "# sort the proba list from high to low while retain the true (not predicted) fraud label\n",
    "    sorted_prob = np.asarray(sorted(zip(y_prob, y), key=lambda x: x[0], reverse=True))\n",
    "    cutoff_bin = sorted_prob[0:int(len(y) * cutoff), 1:]  # 3% cutoff\n",
    "# return the FDR score (#fraud_in_cutoff / #total_fraud)\n",
    "    return len(cutoff_bin[cutoff_bin == 1]) / num_fraud   "
   ]
  },
  {
   "cell_type": "code",
   "execution_count": 19,
   "metadata": {
    "ExecuteTime": {
     "start_time": "2022-04-13T23:53:03.160Z"
    },
    "scrolled": false
   },
   "outputs": [
    {
     "name": "stderr",
     "output_type": "stream",
     "text": [
      "/Users/Justin/opt/anaconda3/lib/python3.8/site-packages/sklearn/utils/validation.py:63: DataConversionWarning: A column-vector y was passed when a 1d array was expected. Please change the shape of y to (n_samples, ), for example using ravel().\n",
      "  return f(*args, **kwargs)\n",
      "/Users/Justin/opt/anaconda3/lib/python3.8/site-packages/sklearn/utils/validation.py:63: DataConversionWarning: A column-vector y was passed when a 1d array was expected. Please change the shape of y to (n_samples, ), for example using ravel().\n",
      "  return f(*args, **kwargs)\n",
      "/Users/Justin/opt/anaconda3/lib/python3.8/site-packages/sklearn/utils/validation.py:63: DataConversionWarning: A column-vector y was passed when a 1d array was expected. Please change the shape of y to (n_samples, ), for example using ravel().\n",
      "  return f(*args, **kwargs)\n",
      "/Users/Justin/opt/anaconda3/lib/python3.8/site-packages/sklearn/utils/validation.py:63: DataConversionWarning: A column-vector y was passed when a 1d array was expected. Please change the shape of y to (n_samples, ), for example using ravel().\n",
      "  return f(*args, **kwargs)\n",
      "/Users/Justin/opt/anaconda3/lib/python3.8/site-packages/sklearn/utils/validation.py:63: DataConversionWarning: A column-vector y was passed when a 1d array was expected. Please change the shape of y to (n_samples, ), for example using ravel().\n",
      "  return f(*args, **kwargs)\n",
      "/Users/Justin/opt/anaconda3/lib/python3.8/site-packages/sklearn/utils/validation.py:63: DataConversionWarning: A column-vector y was passed when a 1d array was expected. Please change the shape of y to (n_samples, ), for example using ravel().\n",
      "  return f(*args, **kwargs)\n",
      "/Users/Justin/opt/anaconda3/lib/python3.8/site-packages/sklearn/utils/validation.py:63: DataConversionWarning: A column-vector y was passed when a 1d array was expected. Please change the shape of y to (n_samples, ), for example using ravel().\n",
      "  return f(*args, **kwargs)\n",
      "/Users/Justin/opt/anaconda3/lib/python3.8/site-packages/sklearn/utils/validation.py:63: DataConversionWarning: A column-vector y was passed when a 1d array was expected. Please change the shape of y to (n_samples, ), for example using ravel().\n",
      "  return f(*args, **kwargs)\n",
      "/Users/Justin/opt/anaconda3/lib/python3.8/site-packages/sklearn/utils/validation.py:63: DataConversionWarning: A column-vector y was passed when a 1d array was expected. Please change the shape of y to (n_samples, ), for example using ravel().\n",
      "  return f(*args, **kwargs)\n",
      "/Users/Justin/opt/anaconda3/lib/python3.8/site-packages/sklearn/utils/validation.py:63: DataConversionWarning: A column-vector y was passed when a 1d array was expected. Please change the shape of y to (n_samples, ), for example using ravel().\n",
      "  return f(*args, **kwargs)\n",
      "[Parallel(n_jobs=-1)]: Using backend LokyBackend with 8 concurrent workers.\n",
      "[Parallel(n_jobs=-1)]: Done  25 tasks      | elapsed:  2.0min\n",
      "[Parallel(n_jobs=-1)]: Done  80 out of  80 | elapsed:  5.3min finished\n",
      "\n",
      "[2022-05-03 15:22:50] Features: 79/20 -- score: 0.6773990911520984[Parallel(n_jobs=-1)]: Using backend LokyBackend with 8 concurrent workers.\n",
      "[Parallel(n_jobs=-1)]: Done  25 tasks      | elapsed:  2.2min\n",
      "[Parallel(n_jobs=-1)]: Done  79 out of  79 | elapsed:  5.5min finished\n",
      "\n",
      "[2022-05-03 15:28:18] Features: 78/20 -- score: 0.6819967923015235[Parallel(n_jobs=-1)]: Using backend LokyBackend with 8 concurrent workers.\n",
      "[Parallel(n_jobs=-1)]: Done  25 tasks      | elapsed:  1.9min\n",
      "[Parallel(n_jobs=-1)]: Done  78 out of  78 | elapsed:  4.7min finished\n",
      "\n",
      "[2022-05-03 15:32:58] Features: 77/20 -- score: 0.6843357391071906[Parallel(n_jobs=-1)]: Using backend LokyBackend with 8 concurrent workers.\n",
      "[Parallel(n_jobs=-1)]: Done  25 tasks      | elapsed:  1.8min\n",
      "[Parallel(n_jobs=-1)]: Done  77 out of  77 | elapsed:  4.5min finished\n",
      "\n",
      "[2022-05-03 15:37:28] Features: 76/20 -- score: 0.6877840149692596[Parallel(n_jobs=-1)]: Using backend LokyBackend with 8 concurrent workers.\n",
      "[Parallel(n_jobs=-1)]: Done  25 tasks      | elapsed:  1.8min\n",
      "[Parallel(n_jobs=-1)]: Done  76 out of  76 | elapsed:  4.2min finished\n",
      "\n",
      "[2022-05-03 15:41:43] Features: 75/20 -- score: 0.6889468056669339[Parallel(n_jobs=-1)]: Using backend LokyBackend with 8 concurrent workers.\n",
      "[Parallel(n_jobs=-1)]: Done  25 tasks      | elapsed:  1.7min\n",
      "[Parallel(n_jobs=-1)]: Done  75 out of  75 | elapsed:  4.1min finished\n",
      "\n",
      "[2022-05-03 15:45:51] Features: 74/20 -- score: 0.6924351777599572[Parallel(n_jobs=-1)]: Using backend LokyBackend with 8 concurrent workers.\n",
      "[Parallel(n_jobs=-1)]: Done  25 tasks      | elapsed:  1.8min\n",
      "[Parallel(n_jobs=-1)]: Done  74 out of  74 | elapsed:  4.1min finished\n",
      "\n",
      "[2022-05-03 15:49:57] Features: 73/20 -- score: 0.6935846030473136[Parallel(n_jobs=-1)]: Using backend LokyBackend with 8 concurrent workers.\n",
      "[Parallel(n_jobs=-1)]: Done  25 tasks      | elapsed:  1.6min\n",
      "[Parallel(n_jobs=-1)]: Done  73 out of  73 | elapsed:  3.9min finished\n",
      "\n",
      "[2022-05-03 15:53:53] Features: 72/20 -- score: 0.6958834536220262[Parallel(n_jobs=-1)]: Using backend LokyBackend with 8 concurrent workers.\n",
      "[Parallel(n_jobs=-1)]: Done  25 tasks      | elapsed:  1.6min\n",
      "[Parallel(n_jobs=-1)]: Done  72 out of  72 | elapsed:  3.7min finished\n",
      "\n",
      "[2022-05-03 15:57:37] Features: 71/20 -- score: 0.6958834536220262[Parallel(n_jobs=-1)]: Using backend LokyBackend with 8 concurrent workers.\n",
      "[Parallel(n_jobs=-1)]: Done  25 tasks      | elapsed:  1.6min\n",
      "[Parallel(n_jobs=-1)]: Done  71 out of  71 | elapsed:  3.6min finished\n",
      "\n",
      "[2022-05-03 16:01:13] Features: 70/20 -- score: 0.6958834536220262[Parallel(n_jobs=-1)]: Using backend LokyBackend with 8 concurrent workers.\n",
      "[Parallel(n_jobs=-1)]: Done  25 tasks      | elapsed:  1.6min\n",
      "[Parallel(n_jobs=-1)]: Done  70 out of  70 | elapsed:  3.5min finished\n",
      "\n",
      "[2022-05-03 16:04:43] Features: 69/20 -- score: 0.6958834536220262[Parallel(n_jobs=-1)]: Using backend LokyBackend with 8 concurrent workers.\n",
      "[Parallel(n_jobs=-1)]: Done  25 tasks      | elapsed:  1.6min\n",
      "[Parallel(n_jobs=-1)]: Done  69 out of  69 | elapsed:  3.5min finished\n",
      "\n",
      "[2022-05-03 16:08:13] Features: 68/20 -- score: 0.6958834536220262[Parallel(n_jobs=-1)]: Using backend LokyBackend with 8 concurrent workers.\n",
      "[Parallel(n_jobs=-1)]: Done  25 tasks      | elapsed:  1.6min\n",
      "[Parallel(n_jobs=-1)]: Done  68 out of  68 | elapsed:  3.4min finished\n",
      "\n",
      "[2022-05-03 16:11:37] Features: 67/20 -- score: 0.6958834536220262[Parallel(n_jobs=-1)]: Using backend LokyBackend with 8 concurrent workers.\n",
      "[Parallel(n_jobs=-1)]: Done  25 tasks      | elapsed:  1.6min\n",
      "[Parallel(n_jobs=-1)]: Done  67 out of  67 | elapsed:  3.4min finished\n",
      "\n",
      "[2022-05-03 16:15:00] Features: 66/20 -- score: 0.6958834536220262[Parallel(n_jobs=-1)]: Using backend LokyBackend with 8 concurrent workers.\n",
      "[Parallel(n_jobs=-1)]: Done  25 tasks      | elapsed:  1.5min\n",
      "[Parallel(n_jobs=-1)]: Done  66 out of  66 | elapsed:  3.2min finished\n",
      "\n",
      "[2022-05-03 16:18:15] Features: 65/20 -- score: 0.6958834536220262[Parallel(n_jobs=-1)]: Using backend LokyBackend with 8 concurrent workers.\n",
      "[Parallel(n_jobs=-1)]: Done  25 tasks      | elapsed:  1.5min\n",
      "[Parallel(n_jobs=-1)]: Done  65 out of  65 | elapsed:  3.2min finished\n",
      "\n",
      "[2022-05-03 16:21:25] Features: 64/20 -- score: 0.6958834536220262[Parallel(n_jobs=-1)]: Using backend LokyBackend with 8 concurrent workers.\n",
      "[Parallel(n_jobs=-1)]: Done  25 tasks      | elapsed:  1.5min\n",
      "[Parallel(n_jobs=-1)]: Done  64 out of  64 | elapsed:  3.0min finished\n",
      "\n",
      "[2022-05-03 16:24:23] Features: 63/20 -- score: 0.6958834536220262[Parallel(n_jobs=-1)]: Using backend LokyBackend with 8 concurrent workers.\n",
      "[Parallel(n_jobs=-1)]: Done  25 tasks      | elapsed:  1.4min\n",
      "[Parallel(n_jobs=-1)]: Done  63 out of  63 | elapsed:  3.0min finished\n",
      "\n",
      "[2022-05-03 16:27:22] Features: 62/20 -- score: 0.6958834536220262[Parallel(n_jobs=-1)]: Using backend LokyBackend with 8 concurrent workers.\n",
      "[Parallel(n_jobs=-1)]: Done  25 tasks      | elapsed:  1.6min\n",
      "[Parallel(n_jobs=-1)]: Done  62 out of  62 | elapsed:  3.0min finished\n",
      "\n",
      "[2022-05-03 16:30:21] Features: 61/20 -- score: 0.6958834536220262[Parallel(n_jobs=-1)]: Using backend LokyBackend with 8 concurrent workers.\n",
      "[Parallel(n_jobs=-1)]: Done  25 tasks      | elapsed:  1.4min\n",
      "[Parallel(n_jobs=-1)]: Done  61 out of  61 | elapsed:  2.7min finished\n",
      "\n",
      "[2022-05-03 16:33:06] Features: 60/20 -- score: 0.6958834536220262[Parallel(n_jobs=-1)]: Using backend LokyBackend with 8 concurrent workers.\n"
     ]
    },
    {
     "name": "stderr",
     "output_type": "stream",
     "text": [
      "[Parallel(n_jobs=-1)]: Done  25 tasks      | elapsed:  1.4min\n",
      "[Parallel(n_jobs=-1)]: Done  60 out of  60 | elapsed:  2.7min finished\n",
      "\n",
      "[2022-05-03 16:35:46] Features: 59/20 -- score: 0.6958834536220262[Parallel(n_jobs=-1)]: Using backend LokyBackend with 8 concurrent workers.\n",
      "[Parallel(n_jobs=-1)]: Done  25 tasks      | elapsed:  1.4min\n",
      "[Parallel(n_jobs=-1)]: Done  59 out of  59 | elapsed:  2.6min finished\n",
      "\n",
      "[2022-05-03 16:38:21] Features: 58/20 -- score: 0.6958834536220262[Parallel(n_jobs=-1)]: Using backend LokyBackend with 8 concurrent workers.\n",
      "[Parallel(n_jobs=-1)]: Done  25 tasks      | elapsed:  1.5min\n",
      "[Parallel(n_jobs=-1)]: Done  58 out of  58 | elapsed:  2.8min finished\n",
      "\n",
      "[2022-05-03 16:41:11] Features: 57/20 -- score: 0.6958834536220262[Parallel(n_jobs=-1)]: Using backend LokyBackend with 8 concurrent workers.\n",
      "[Parallel(n_jobs=-1)]: Done  25 tasks      | elapsed:  1.4min\n",
      "[Parallel(n_jobs=-1)]: Done  57 out of  57 | elapsed:  2.6min finished\n",
      "\n",
      "[2022-05-03 16:43:45] Features: 56/20 -- score: 0.6958834536220262[Parallel(n_jobs=-1)]: Using backend LokyBackend with 8 concurrent workers.\n",
      "[Parallel(n_jobs=-1)]: Done  25 tasks      | elapsed:  1.3min\n",
      "[Parallel(n_jobs=-1)]: Done  56 out of  56 | elapsed:  2.3min finished\n",
      "\n",
      "[2022-05-03 16:46:02] Features: 55/20 -- score: 0.6958834536220262[Parallel(n_jobs=-1)]: Using backend LokyBackend with 8 concurrent workers.\n",
      "[Parallel(n_jobs=-1)]: Done  25 tasks      | elapsed:  1.3min\n",
      "[Parallel(n_jobs=-1)]: Done  55 out of  55 | elapsed:  2.3min finished\n",
      "\n",
      "[2022-05-03 16:48:19] Features: 54/20 -- score: 0.6958834536220262[Parallel(n_jobs=-1)]: Using backend LokyBackend with 8 concurrent workers.\n",
      "[Parallel(n_jobs=-1)]: Done  25 tasks      | elapsed:  1.3min\n",
      "[Parallel(n_jobs=-1)]: Done  54 out of  54 | elapsed:  2.2min finished\n",
      "\n",
      "[2022-05-03 16:50:30] Features: 53/20 -- score: 0.6958834536220262[Parallel(n_jobs=-1)]: Using backend LokyBackend with 8 concurrent workers.\n",
      "[Parallel(n_jobs=-1)]: Done  25 tasks      | elapsed:  1.2min\n",
      "[Parallel(n_jobs=-1)]: Done  53 out of  53 | elapsed:  2.1min finished\n",
      "\n",
      "[2022-05-03 16:52:38] Features: 52/20 -- score: 0.6958834536220262[Parallel(n_jobs=-1)]: Using backend LokyBackend with 8 concurrent workers.\n",
      "[Parallel(n_jobs=-1)]: Done  25 tasks      | elapsed:  1.3min\n",
      "[Parallel(n_jobs=-1)]: Done  52 out of  52 | elapsed:  2.1min finished\n",
      "\n",
      "[2022-05-03 16:54:47] Features: 51/20 -- score: 0.6958834536220262[Parallel(n_jobs=-1)]: Using backend LokyBackend with 8 concurrent workers.\n",
      "[Parallel(n_jobs=-1)]: Done  25 tasks      | elapsed:  1.2min\n",
      "[Parallel(n_jobs=-1)]: Done  51 out of  51 | elapsed:  2.0min finished\n",
      "\n",
      "[2022-05-03 16:56:46] Features: 50/20 -- score: 0.6958834536220262[Parallel(n_jobs=-1)]: Using backend LokyBackend with 8 concurrent workers.\n",
      "[Parallel(n_jobs=-1)]: Done  25 tasks      | elapsed:  1.2min\n",
      "[Parallel(n_jobs=-1)]: Done  50 out of  50 | elapsed:  1.9min finished\n",
      "\n",
      "[2022-05-03 16:58:43] Features: 49/20 -- score: 0.6958834536220262[Parallel(n_jobs=-1)]: Using backend LokyBackend with 8 concurrent workers.\n",
      "[Parallel(n_jobs=-1)]: Done  25 tasks      | elapsed:  1.1min\n",
      "[Parallel(n_jobs=-1)]: Done  49 out of  49 | elapsed:  1.9min finished\n",
      "\n",
      "[2022-05-03 17:00:36] Features: 48/20 -- score: 0.6958834536220262[Parallel(n_jobs=-1)]: Using backend LokyBackend with 8 concurrent workers.\n",
      "[Parallel(n_jobs=-1)]: Done  25 tasks      | elapsed:  1.2min\n",
      "[Parallel(n_jobs=-1)]: Done  48 out of  48 | elapsed:  1.7min finished\n",
      "\n",
      "[2022-05-03 17:02:21] Features: 47/20 -- score: 0.6958834536220262[Parallel(n_jobs=-1)]: Using backend LokyBackend with 8 concurrent workers.\n",
      "[Parallel(n_jobs=-1)]: Done  25 tasks      | elapsed:  1.1min\n",
      "[Parallel(n_jobs=-1)]: Done  47 out of  47 | elapsed:  1.6min finished\n",
      "\n",
      "[2022-05-03 17:04:00] Features: 46/20 -- score: 0.6958834536220262[Parallel(n_jobs=-1)]: Using backend LokyBackend with 8 concurrent workers.\n",
      "[Parallel(n_jobs=-1)]: Done  25 tasks      | elapsed:  1.1min\n",
      "[Parallel(n_jobs=-1)]: Done  46 out of  46 | elapsed:  1.6min finished\n",
      "\n",
      "[2022-05-03 17:05:35] Features: 45/20 -- score: 0.6958834536220262[Parallel(n_jobs=-1)]: Using backend LokyBackend with 8 concurrent workers.\n",
      "[Parallel(n_jobs=-1)]: Done  25 tasks      | elapsed:  1.1min\n",
      "[Parallel(n_jobs=-1)]: Done  45 out of  45 | elapsed:  1.5min finished\n",
      "\n",
      "[2022-05-03 17:07:08] Features: 44/20 -- score: 0.6958834536220262[Parallel(n_jobs=-1)]: Using backend LokyBackend with 8 concurrent workers.\n",
      "[Parallel(n_jobs=-1)]: Done  25 tasks      | elapsed:  1.0min\n",
      "[Parallel(n_jobs=-1)]: Done  44 out of  44 | elapsed:  1.5min finished\n",
      "\n",
      "[2022-05-03 17:08:36] Features: 43/20 -- score: 0.6958834536220262[Parallel(n_jobs=-1)]: Using backend LokyBackend with 8 concurrent workers.\n",
      "[Parallel(n_jobs=-1)]: Done  25 tasks      | elapsed:  1.0min\n",
      "[Parallel(n_jobs=-1)]: Done  43 out of  43 | elapsed:  1.4min finished\n",
      "\n",
      "[2022-05-03 17:10:02] Features: 42/20 -- score: 0.6958834536220262[Parallel(n_jobs=-1)]: Using backend LokyBackend with 8 concurrent workers.\n",
      "[Parallel(n_jobs=-1)]: Done  25 tasks      | elapsed:   58.8s\n",
      "[Parallel(n_jobs=-1)]: Done  42 out of  42 | elapsed:  1.4min finished\n",
      "\n",
      "[2022-05-03 17:11:24] Features: 41/20 -- score: 0.6958834536220262[Parallel(n_jobs=-1)]: Using backend LokyBackend with 8 concurrent workers.\n",
      "[Parallel(n_jobs=-1)]: Done  25 tasks      | elapsed:   58.0s\n",
      "[Parallel(n_jobs=-1)]: Done  41 out of  41 | elapsed:  1.3min finished\n",
      "\n",
      "[2022-05-03 17:12:45] Features: 40/20 -- score: 0.6958834536220262[Parallel(n_jobs=-1)]: Using backend LokyBackend with 8 concurrent workers.\n",
      "[Parallel(n_jobs=-1)]: Done  25 tasks      | elapsed:   55.1s\n",
      "[Parallel(n_jobs=-1)]: Done  40 out of  40 | elapsed:  1.2min finished\n",
      "\n",
      "[2022-05-03 17:13:56] Features: 39/20 -- score: 0.6958834536220262[Parallel(n_jobs=-1)]: Using backend LokyBackend with 8 concurrent workers.\n",
      "[Parallel(n_jobs=-1)]: Done  39 out of  39 | elapsed:  1.1min finished\n",
      "\n",
      "[2022-05-03 17:15:04] Features: 38/20 -- score: 0.6958834536220262[Parallel(n_jobs=-1)]: Using backend LokyBackend with 8 concurrent workers.\n",
      "[Parallel(n_jobs=-1)]: Done  38 out of  38 | elapsed:  1.1min finished\n",
      "\n",
      "[2022-05-03 17:16:10] Features: 37/20 -- score: 0.6958834536220262[Parallel(n_jobs=-1)]: Using backend LokyBackend with 8 concurrent workers.\n",
      "[Parallel(n_jobs=-1)]: Done  37 out of  37 | elapsed:  1.0min finished\n",
      "\n",
      "[2022-05-03 17:17:13] Features: 36/20 -- score: 0.6958834536220262[Parallel(n_jobs=-1)]: Using backend LokyBackend with 8 concurrent workers.\n",
      "[Parallel(n_jobs=-1)]: Done  36 out of  36 | elapsed:   59.6s finished\n",
      "\n",
      "[2022-05-03 17:18:13] Features: 35/20 -- score: 0.6958834536220262[Parallel(n_jobs=-1)]: Using backend LokyBackend with 8 concurrent workers.\n",
      "[Parallel(n_jobs=-1)]: Done  35 out of  35 | elapsed:   57.8s finished\n",
      "\n",
      "[2022-05-03 17:19:11] Features: 34/20 -- score: 0.6935846030473136[Parallel(n_jobs=-1)]: Using backend LokyBackend with 8 concurrent workers.\n",
      "[Parallel(n_jobs=-1)]: Done  34 out of  34 | elapsed:   55.7s finished\n",
      "\n",
      "[2022-05-03 17:20:07] Features: 33/20 -- score: 0.6935712376369955[Parallel(n_jobs=-1)]: Using backend LokyBackend with 8 concurrent workers.\n",
      "[Parallel(n_jobs=-1)]: Done  33 out of  33 | elapsed:   54.1s finished\n",
      "\n",
      "[2022-05-03 17:21:01] Features: 32/20 -- score: 0.6935712376369955[Parallel(n_jobs=-1)]: Using backend LokyBackend with 8 concurrent workers.\n",
      "[Parallel(n_jobs=-1)]: Done  32 out of  32 | elapsed:   45.9s finished\n",
      "\n",
      "[2022-05-03 17:21:47] Features: 31/20 -- score: 0.6935846030473136[Parallel(n_jobs=-1)]: Using backend LokyBackend with 8 concurrent workers.\n",
      "[Parallel(n_jobs=-1)]: Done  31 out of  31 | elapsed:   43.8s finished\n",
      "\n",
      "[2022-05-03 17:22:31] Features: 30/20 -- score: 0.694747393744988[Parallel(n_jobs=-1)]: Using backend LokyBackend with 8 concurrent workers.\n",
      "[Parallel(n_jobs=-1)]: Done  30 out of  30 | elapsed:   41.8s finished\n",
      "\n",
      "[2022-05-03 17:23:13] Features: 29/20 -- score: 0.6970462443197006[Parallel(n_jobs=-1)]: Using backend LokyBackend with 8 concurrent workers.\n",
      "[Parallel(n_jobs=-1)]: Done  29 out of  29 | elapsed:   39.7s remaining:    0.0s\n",
      "[Parallel(n_jobs=-1)]: Done  29 out of  29 | elapsed:   39.7s finished\n",
      "\n",
      "[2022-05-03 17:23:53] Features: 28/20 -- score: 0.6970462443197006[Parallel(n_jobs=-1)]: Using backend LokyBackend with 8 concurrent workers.\n"
     ]
    },
    {
     "name": "stderr",
     "output_type": "stream",
     "text": [
      "[Parallel(n_jobs=-1)]: Done  28 out of  28 | elapsed:   37.3s remaining:    0.0s\n",
      "[Parallel(n_jobs=-1)]: Done  28 out of  28 | elapsed:   37.3s finished\n",
      "\n",
      "[2022-05-03 17:24:30] Features: 27/20 -- score: 0.6970462443197006[Parallel(n_jobs=-1)]: Using backend LokyBackend with 8 concurrent workers.\n",
      "[Parallel(n_jobs=-1)]: Done  27 out of  27 | elapsed:   36.4s finished\n",
      "\n",
      "[2022-05-03 17:25:06] Features: 26/20 -- score: 0.6970462443197006[Parallel(n_jobs=-1)]: Using backend LokyBackend with 8 concurrent workers.\n",
      "[Parallel(n_jobs=-1)]: Done  26 out of  26 | elapsed:   34.3s finished\n",
      "\n",
      "[2022-05-03 17:25:41] Features: 25/20 -- score: 0.6970462443197006[Parallel(n_jobs=-1)]: Using backend LokyBackend with 8 concurrent workers.\n",
      "[Parallel(n_jobs=-1)]: Done  23 out of  25 | elapsed:   27.4s remaining:    2.4s\n",
      "[Parallel(n_jobs=-1)]: Done  25 out of  25 | elapsed:   32.3s finished\n",
      "\n",
      "[2022-05-03 17:26:13] Features: 24/20 -- score: 0.6981956696070569[Parallel(n_jobs=-1)]: Using backend LokyBackend with 8 concurrent workers.\n",
      "[Parallel(n_jobs=-1)]: Done  22 out of  24 | elapsed:   26.1s remaining:    2.4s\n",
      "[Parallel(n_jobs=-1)]: Done  24 out of  24 | elapsed:   26.3s finished\n",
      "\n",
      "[2022-05-03 17:26:40] Features: 23/20 -- score: 0.6958968190323443[Parallel(n_jobs=-1)]: Using backend LokyBackend with 8 concurrent workers.\n",
      "[Parallel(n_jobs=-1)]: Done  20 out of  23 | elapsed:   25.9s remaining:    3.9s\n",
      "[Parallel(n_jobs=-1)]: Done  23 out of  23 | elapsed:   26.0s finished\n",
      "\n",
      "[2022-05-03 17:27:06] Features: 22/20 -- score: 0.694747393744988[Parallel(n_jobs=-1)]: Using backend LokyBackend with 8 concurrent workers.\n",
      "[Parallel(n_jobs=-1)]: Done  19 out of  22 | elapsed:   24.0s remaining:    3.8s\n",
      "[Parallel(n_jobs=-1)]: Done  22 out of  22 | elapsed:   24.2s finished\n",
      "\n",
      "[2022-05-03 17:27:30] Features: 21/20 -- score: 0.6958968190323442[Parallel(n_jobs=-1)]: Using backend LokyBackend with 8 concurrent workers.\n",
      "[Parallel(n_jobs=-1)]: Done  17 out of  21 | elapsed:   23.1s remaining:    5.4s\n",
      "[Parallel(n_jobs=-1)]: Done  21 out of  21 | elapsed:   23.5s finished\n",
      "\n",
      "[2022-05-03 17:27:54] Features: 20/20 -- score: 0.6958968190323442"
     ]
    },
    {
     "name": "stdout",
     "output_type": "stream",
     "text": [
      "CPU times: user 1min 59s, sys: 2min 29s, total: 4min 29s\n",
      "Wall time: 2h 10min 27s\n"
     ]
    },
    {
     "data": {
      "text/plain": [
       "SequentialFeatureSelector(cv=10,\n",
       "                          estimator=LGBMClassifier(n_estimators=30,\n",
       "                                                   num_leaves=3),\n",
       "                          forward=False, k_features=20, n_jobs=-1,\n",
       "                          scoring=<function fdr at 0x7feb0e434ee0>, verbose=2)"
      ]
     },
     "execution_count": 19,
     "metadata": {},
     "output_type": "execute_result"
    }
   ],
   "source": [
    "%%time\n",
    "import warnings \n",
    "warnings.filterwarnings(\"ignore\", category=np.VisibleDeprecationWarning) \n",
    "# If you're doing forward selection it's enough to stop at num_wrapper variables. \n",
    "# If you're doing backward selection you need to go through all the variables to get \n",
    "# a sorted list of num_wrapper variables.\n",
    "nfeatures = len(X.columns)\n",
    "# clf = RandomForestClassifier(n_estimators=5) # simple, fast nonlinear model for the wrapper\n",
    "clf = LGBMClassifier(n_estimators=30,num_leaves=3) # simple, fast nonlinear model for the wrapper\n",
    "sfs = SFS(clf,k_features=num_wrapper,forward=False,verbose=2,scoring=fdr,cv=10,n_jobs=-1) # forward selection\n",
    "# sfs = SFS(clf,k_features=1,forward=False,verbose=2,scoring=fdr,cv=2,n_jobs=-1) # backward selection\n",
    "sfs.fit(X,Y)"
   ]
  },
  {
   "cell_type": "code",
   "execution_count": 20,
   "metadata": {},
   "outputs": [
    {
     "data": {
      "image/png": "[encoded data removed]",
      "text/plain": [
       "<Figure size 1080x432 with 1 Axes>"
      ]
     },
     "metadata": {
      "needs_background": "light"
     },
     "output_type": "display_data"
    }
   ],
   "source": [
    "from mlxtend.plotting import plot_sequential_feature_selection as plot_sfs\n",
    "fig1 = plot_sfs(sfs.get_metric_dict(),kind='std_dev', figsize=(15, 6))\n",
    "plt.xticks(np.arange(20,80, step=5))\n",
    "plt.yticks(np.arange(0,1,step=.1))\n",
    "plt.ylim([0., 1])\n",
    "plt.xlim(0,num_wrapper)\n",
    "plt.title('Backward Selection')\n",
    "plt.grid()\n",
    "plt.savefig('FS_fdr.png')\n",
    "plt.show()"
   ]
  },
  {
   "cell_type": "code",
   "execution_count": 25,
   "metadata": {
    "ExecuteTime": {
     "start_time": "2022-04-13T23:53:03.163Z"
    }
   },
   "outputs": [
    {
     "data": {
      "image/png": "[encoded data removed]",
      "text/plain": [
       "<Figure size 1080x432 with 1 Axes>"
      ]
     },
     "metadata": {
      "needs_background": "light"
     },
     "output_type": "display_data"
    }
   ],
   "source": [
    "from mlxtend.plotting import plot_sequential_feature_selection as plot_sfs\n",
    "fig1 = plot_sfs(sfs.get_metric_dict(),kind='std_dev', figsize=(15, 6))\n",
    "plt.xticks(np.arange(0, len(X.columns), step=5))\n",
    "plt.yticks(np.arange(0,1,step=.1))\n",
    "plt.ylim([0., 1])\n",
    "plt.xlim(20,80)\n",
    "plt.title('Backward Selection')\n",
    "plt.grid()\n",
    "plt.savefig('FS_fdr.png')\n",
    "plt.show()"
   ]
  },
  {
   "cell_type": "code",
   "execution_count": 24,
   "metadata": {},
   "outputs": [],
   "source": [
    "vars_FS.to_excel('vicky20.xlsx')"
   ]
  },
  {
   "cell_type": "code",
   "execution_count": 21,
   "metadata": {
    "ExecuteTime": {
     "start_time": "2022-04-13T23:53:03.167Z"
    },
    "scrolled": false
   },
   "outputs": [],
   "source": [
    "vars_FS = pd.DataFrame.from_dict(sfs.get_metric_dict()).T"
   ]
  },
  {
   "cell_type": "code",
   "execution_count": 22,
   "metadata": {},
   "outputs": [
    {
     "data": {
      "image/png": "[encoded data removed]",
      "text/plain": [
       "<Figure size 1080x432 with 1 Axes>"
      ]
     },
     "metadata": {
      "needs_background": "light"
     },
     "output_type": "display_data"
    }
   ],
   "source": [
    "from mlxtend.plotting import plot_sequential_feature_selection as plot_sfs\n",
    "fig1 = plot_sfs(sfs.get_metric_dict(),kind='std_dev', figsize=(15, 6))\n",
    "plt.xticks(np.arange(20,80, step=5))\n",
    "plt.yticks(np.arange(0,1,step=.1))\n",
    "plt.ylim([0., 1])\n",
    "plt.xlim(0,num_wrapper)\n",
    "plt.title('Backward Selection')\n",
    "plt.grid()\n",
    "plt.savefig('FS_fdr.png')\n",
    "plt.show()"
   ]
  },
  {
   "cell_type": "code",
   "execution_count": 22,
   "metadata": {
    "ExecuteTime": {
     "start_time": "2022-04-13T23:53:03.169Z"
    }
   },
   "outputs": [
    {
     "ename": "TypeError",
     "evalue": "'float' object is not iterable",
     "output_type": "error",
     "traceback": [
      "\u001b[0;31m---------------------------------------------------------------------------\u001b[0m",
      "\u001b[0;31mTypeError\u001b[0m                                 Traceback (most recent call last)",
      "\u001b[0;32m<ipython-input-22-951f532e8286>\u001b[0m in \u001b[0;36m<module>\u001b[0;34m\u001b[0m\n\u001b[1;32m      3\u001b[0m     \u001b[0mordered_vars_FS\u001b[0m\u001b[0;34m.\u001b[0m\u001b[0mloc\u001b[0m\u001b[0;34m[\u001b[0m\u001b[0mi\u001b[0m\u001b[0;34m+\u001b[0m\u001b[0;36m1\u001b[0m\u001b[0;34m,\u001b[0m\u001b[0;34m'add variables in this order'\u001b[0m\u001b[0;34m]\u001b[0m \u001b[0;34m=\u001b[0m \u001b[0mint\u001b[0m\u001b[0;34m(\u001b[0m\u001b[0mi\u001b[0m\u001b[0;34m+\u001b[0m\u001b[0;36m1\u001b[0m\u001b[0;34m)\u001b[0m\u001b[0;34m\u001b[0m\u001b[0;34m\u001b[0m\u001b[0m\n\u001b[1;32m      4\u001b[0m     \u001b[0;32mif\u001b[0m \u001b[0mi\u001b[0m\u001b[0;34m+\u001b[0m\u001b[0;36m1\u001b[0m \u001b[0;34m==\u001b[0m \u001b[0;36m1\u001b[0m\u001b[0;34m:\u001b[0m\u001b[0;34m\u001b[0m\u001b[0;34m\u001b[0m\u001b[0m\n\u001b[0;32m----> 5\u001b[0;31m         \u001b[0mordered_vars_FS\u001b[0m\u001b[0;34m.\u001b[0m\u001b[0mloc\u001b[0m\u001b[0;34m[\u001b[0m\u001b[0mi\u001b[0m\u001b[0;34m+\u001b[0m\u001b[0;36m1\u001b[0m\u001b[0;34m,\u001b[0m\u001b[0;34m'variable name'\u001b[0m\u001b[0;34m]\u001b[0m \u001b[0;34m=\u001b[0m \u001b[0mlist\u001b[0m\u001b[0;34m(\u001b[0m\u001b[0mordered_vars_FS\u001b[0m\u001b[0;34m.\u001b[0m\u001b[0mloc\u001b[0m\u001b[0;34m[\u001b[0m\u001b[0mi\u001b[0m\u001b[0;34m+\u001b[0m\u001b[0;36m1\u001b[0m\u001b[0;34m,\u001b[0m\u001b[0;34m'feature_names'\u001b[0m\u001b[0;34m]\u001b[0m\u001b[0;34m)\u001b[0m\u001b[0;34m[\u001b[0m\u001b[0;36m0\u001b[0m\u001b[0;34m]\u001b[0m\u001b[0;34m\u001b[0m\u001b[0;34m\u001b[0m\u001b[0m\n\u001b[0m\u001b[1;32m      6\u001b[0m     \u001b[0;32melse\u001b[0m\u001b[0;34m:\u001b[0m\u001b[0;34m\u001b[0m\u001b[0;34m\u001b[0m\u001b[0m\n\u001b[1;32m      7\u001b[0m         \u001b[0mordered_vars_FS\u001b[0m\u001b[0;34m.\u001b[0m\u001b[0mloc\u001b[0m\u001b[0;34m[\u001b[0m\u001b[0mi\u001b[0m\u001b[0;34m+\u001b[0m\u001b[0;36m1\u001b[0m\u001b[0;34m,\u001b[0m\u001b[0;34m'variable name'\u001b[0m\u001b[0;34m]\u001b[0m \u001b[0;34m=\u001b[0m \u001b[0mset\u001b[0m\u001b[0;34m(\u001b[0m\u001b[0mordered_vars_FS\u001b[0m\u001b[0;34m.\u001b[0m\u001b[0mloc\u001b[0m\u001b[0;34m[\u001b[0m\u001b[0mi\u001b[0m\u001b[0;34m+\u001b[0m\u001b[0;36m1\u001b[0m\u001b[0;34m,\u001b[0m\u001b[0;34m'feature_names'\u001b[0m\u001b[0;34m]\u001b[0m\u001b[0;34m)\u001b[0m \u001b[0;34m-\u001b[0m \u001b[0mset\u001b[0m\u001b[0;34m(\u001b[0m\u001b[0mordered_vars_FS\u001b[0m\u001b[0;34m.\u001b[0m\u001b[0mloc\u001b[0m\u001b[0;34m[\u001b[0m\u001b[0mi\u001b[0m\u001b[0;34m,\u001b[0m\u001b[0;34m'feature_names'\u001b[0m\u001b[0;34m]\u001b[0m\u001b[0;34m)\u001b[0m\u001b[0;34m\u001b[0m\u001b[0;34m\u001b[0m\u001b[0m\n",
      "\u001b[0;31mTypeError\u001b[0m: 'float' object is not iterable"
     ]
    }
   ],
   "source": [
    "ordered_vars_FS = vars_FS.copy()\n",
    "for i in range(len(ordered_vars_FS)):\n",
    "    ordered_vars_FS.loc[i+1,'add variables in this order'] = int(i+1)\n",
    "    if i+1 == 1:\n",
    "        ordered_vars_FS.loc[i+1,'variable name'] = list(ordered_vars_FS.loc[i+1,'feature_names'])[0]\n",
    "    else:\n",
    "        ordered_vars_FS.loc[i+1,'variable name'] = set(ordered_vars_FS.loc[i+1,'feature_names']) - set(ordered_vars_FS.loc[i,'feature_names'])"
   ]
  },
  {
   "cell_type": "code",
   "execution_count": null,
   "metadata": {
    "ExecuteTime": {
     "start_time": "2022-04-13T23:53:03.173Z"
    }
   },
   "outputs": [],
   "source": [
    "ordered_vars_FS"
   ]
  },
  {
   "cell_type": "code",
   "execution_count": null,
   "metadata": {
    "ExecuteTime": {
     "start_time": "2022-04-13T23:53:03.177Z"
    }
   },
   "outputs": [],
   "source": [
    "ordered_vars_FS.to_csv('VarsFS.csv', index=False)"
   ]
  },
  {
   "cell_type": "code",
   "execution_count": null,
   "metadata": {
    "ExecuteTime": {
     "start_time": "2022-04-13T23:53:03.180Z"
    }
   },
   "outputs": [],
   "source": [
    "ordered_vars_FS['variable name']"
   ]
  },
  {
   "cell_type": "code",
   "execution_count": null,
   "metadata": {
    "ExecuteTime": {
     "start_time": "2022-04-13T23:53:03.184Z"
    },
    "scrolled": true
   },
   "outputs": [],
   "source": [
    "vars_keep = ordered_vars_FS['variable name']\n",
    "vars_keep_list = ordered_vars_FS['variable name'].tolist()\n",
    "vars_keep.to_csv('final_vars_list.csv',index=False)"
   ]
  },
  {
   "cell_type": "code",
   "execution_count": null,
   "metadata": {
    "ExecuteTime": {
     "start_time": "2022-04-13T23:53:03.186Z"
    }
   },
   "outputs": [],
   "source": [
    "vars_keep"
   ]
  },
  {
   "cell_type": "code",
   "execution_count": null,
   "metadata": {
    "ExecuteTime": {
     "start_time": "2022-04-13T23:53:03.190Z"
    },
    "scrolled": false
   },
   "outputs": [],
   "source": [
    "vars_keep_list.append(index_name)\n",
    "vars_keep_list.append(y_name)\n",
    "vars_keep_list"
   ]
  },
  {
   "cell_type": "code",
   "execution_count": null,
   "metadata": {
    "ExecuteTime": {
     "start_time": "2022-04-13T23:53:03.192Z"
    }
   },
   "outputs": [],
   "source": [
    "df = pd.read_csv(file_name)"
   ]
  },
  {
   "cell_type": "code",
   "execution_count": null,
   "metadata": {
    "ExecuteTime": {
     "start_time": "2022-04-13T23:53:03.199Z"
    }
   },
   "outputs": [],
   "source": [
    "df_keep = df.filter(vars_keep_list, axis=1)\n",
    "print(df_keep.shape)"
   ]
  },
  {
   "cell_type": "code",
   "execution_count": null,
   "metadata": {
    "ExecuteTime": {
     "start_time": "2022-04-13T23:53:03.233Z"
    }
   },
   "outputs": [],
   "source": [
    "df_keep.to_csv('vars_final.csv',index=False)"
   ]
  },
  {
   "cell_type": "code",
   "execution_count": null,
   "metadata": {
    "ExecuteTime": {
     "start_time": "2022-04-13T23:53:03.242Z"
    }
   },
   "outputs": [],
   "source": [
    "print('time to here:', dt.datetime.now() - start_time)"
   ]
  },
  {
   "cell_type": "code",
   "execution_count": null,
   "metadata": {},
   "outputs": [],
   "source": []
  },
  {
   "cell_type": "code",
   "execution_count": null,
   "metadata": {},
   "outputs": [],
   "source": []
  },
  {
   "cell_type": "code",
   "execution_count": null,
   "metadata": {},
   "outputs": [],
   "source": []
  }
 ],
 "metadata": {
  "anaconda-cloud": {},
  "kernelspec": {
   "display_name": "Python 3",
   "language": "python",
   "name": "python3"
  },
  "language_info": {
   "codemirror_mode": {
    "name": "ipython",
    "version": 3
   },
   "file_extension": ".py",
   "mimetype": "text/x-python",
   "name": "python",
   "nbconvert_exporter": "python",
   "pygments_lexer": "ipython3",
   "version": "3.7.10"
  }
 },
 "nbformat": 4,
 "nbformat_minor": 1
}
