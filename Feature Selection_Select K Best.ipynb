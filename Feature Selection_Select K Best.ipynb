{
 "cells": [
  {
   "cell_type": "code",
   "execution_count": 1,
   "metadata": {
    "ExecuteTime": {
     "end_time": "2022-04-24T18:19:06.637871Z",
     "start_time": "2022-04-24T18:18:59.226634Z"
    }
   },
   "outputs": [],
   "source": [
    "import pandas as pd\n",
    "import numpy as np\n",
    "from sklearn.model_selection import train_test_split\n",
    "\n",
    "from sklearn.feature_selection import SelectKBest\n",
    "from sklearn.feature_selection import chi2\n",
    "\n",
    "from mlxtend.feature_selection import SequentialFeatureSelector\n",
    "from sklearn.ensemble import RandomForestClassifier\n",
    "\n",
    "from sklearn.feature_selection import RFE\n",
    "\n",
    "from mlxtend.feature_selection import ExhaustiveFeatureSelector"
   ]
  },
  {
   "cell_type": "code",
   "execution_count": 2,
   "metadata": {
    "ExecuteTime": {
     "end_time": "2022-04-24T18:19:18.091298Z",
     "start_time": "2022-04-24T18:19:06.643136Z"
    }
   },
   "outputs": [],
   "source": [
    "df = pd.read_csv('vars.csv', index_col=[0])"
   ]
  },
  {
   "cell_type": "code",
   "execution_count": 3,
   "metadata": {
    "ExecuteTime": {
     "end_time": "2022-04-24T18:19:18.115987Z",
     "start_time": "2022-04-24T18:19:18.095776Z"
    }
   },
   "outputs": [
    {
     "data": {
      "text/plain": [
       "(96397, 515)"
      ]
     },
     "execution_count": 3,
     "metadata": {},
     "output_type": "execute_result"
    }
   ],
   "source": [
    "df.shape"
   ]
  },
  {
   "cell_type": "code",
   "execution_count": 4,
   "metadata": {
    "ExecuteTime": {
     "end_time": "2022-04-24T18:19:18.204260Z",
     "start_time": "2022-04-24T18:19:18.128532Z"
    }
   },
   "outputs": [
    {
     "name": "stdout",
     "output_type": "stream",
     "text": [
      "<class 'pandas.core.frame.DataFrame'>\n",
      "Int64Index: 96397 entries, 0 to 96752\n",
      "Columns: 515 entries, Recnum to Amount_unique_count_for_Merchnum_30\n",
      "dtypes: float64(434), int64(80), object(1)\n",
      "memory usage: 379.5+ MB\n"
     ]
    }
   ],
   "source": [
    "df.info()"
   ]
  },
  {
   "cell_type": "code",
   "execution_count": 5,
   "metadata": {
    "ExecuteTime": {
     "end_time": "2022-04-24T18:19:18.360151Z",
     "start_time": "2022-04-24T18:19:18.212013Z"
    }
   },
   "outputs": [
    {
     "data": {
      "text/plain": [
       "Index(['Date'], dtype='object')"
      ]
     },
     "execution_count": 5,
     "metadata": {},
     "output_type": "execute_result"
    }
   ],
   "source": [
    "df.select_dtypes('object').columns"
   ]
  },
  {
   "cell_type": "code",
   "execution_count": 7,
   "metadata": {
    "ExecuteTime": {
     "end_time": "2022-04-24T18:19:19.882812Z",
     "start_time": "2022-04-24T18:19:18.377120Z"
    }
   },
   "outputs": [],
   "source": [
    "X = df[(df.index <= 84300)&(df.index >= 2995)].drop(['Fraud','Date'], axis=1)\n",
    "y = df[(df.index <= 84300)&(df.index >= 2995)]['Fraud']\n",
    "X_train, X_test, y_train, y_test = train_test_split(X, y, test_size = 0.2)"
   ]
  },
  {
   "cell_type": "markdown",
   "metadata": {},
   "source": [
    "# SelectKBest"
   ]
  },
  {
   "cell_type": "code",
   "execution_count": 8,
   "metadata": {
    "ExecuteTime": {
     "end_time": "2022-04-24T18:19:20.726782Z",
     "start_time": "2022-04-24T18:19:20.003667Z"
    }
   },
   "outputs": [
    {
     "name": "stdout",
     "output_type": "stream",
     "text": [
      "['Cardnum_total_0', 'Cardnum_total_1', 'Cardnum_total_3', 'Cardnum_total_7', 'Cardnum_total_14', 'card_state_total_1', 'card_state_total_3', 'card_state_total_7', 'card_state_total_14', 'card_zip_total_1', 'card_zip_total_3', 'card_zip_total_7', 'card_zip_total_14', 'card_zip_total_30', 'card_merch_total_1', 'card_merch_total_3', 'card_merch_total_7', 'card_merch_total_14', 'card_merch_total_30', 'merch_state_total_1']\n"
     ]
    }
   ],
   "source": [
    "selector = SelectKBest(score_func=chi2, k=20)\n",
    "\n",
    "selector.fit(X_train, y_train)\n",
    "\n",
    "vector_names = list(X_train.columns[selector.get_support(indices=True)])\n",
    "print(vector_names)"
   ]
  },
  {
   "cell_type": "code",
   "execution_count": 9,
   "metadata": {
    "ExecuteTime": {
     "end_time": "2022-04-24T18:19:20.761552Z",
     "start_time": "2022-04-24T18:19:20.738889Z"
    }
   },
   "outputs": [],
   "source": [
    "X_train_best = X_train[vector_names]\n",
    "X_test_best = X_test[vector_names]"
   ]
  }
 ],
 "metadata": {
  "kernelspec": {
   "display_name": "Python 3",
   "language": "python",
   "name": "python3"
  },
  "language_info": {
   "codemirror_mode": {
    "name": "ipython",
    "version": 3
   },
   "file_extension": ".py",
   "mimetype": "text/x-python",
   "name": "python",
   "nbconvert_exporter": "python",
   "pygments_lexer": "ipython3",
   "version": "3.7.4"
  }
 },
 "nbformat": 4,
 "nbformat_minor": 2
}
