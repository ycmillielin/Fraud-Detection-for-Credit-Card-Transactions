{
 "cells": [
  {
   "cell_type": "markdown",
   "metadata": {},
   "source": [
    "\n",
    "The feature selection notebook does a filter followed by a wrapper. It's capable of doing the filter on more than one file. The variable files are called vars1.csv, vars2.csv ...\n",
    "\n",
    "The filter runs separately on each vars file and keeps the top num_filter variables from each file. If there are more than one vars files we'll again select the top num_filter variables across all the vars.csv files.\n",
    "\n",
    "If balance = 0 the entire files are used. If balance != 0 then balance is the ratio of goods to bads retained for the rest of the feature selection. We keep all the rare class (bads) and downsample the goods. "
   ]
  },
  {
   "cell_type": "code",
   "execution_count": 1,
   "metadata": {
    "ExecuteTime": {
     "end_time": "2022-04-13T23:53:10.082907Z",
     "start_time": "2022-04-13T23:53:03.031764Z"
    },
    "scrolled": false
   },
   "outputs": [],
   "source": [
    "# load libraries\n",
    "# %pip install mlxtend\n",
    "# %pip install lightgbm\n",
    "\n",
    "import pandas as pd\n",
    "import numpy as np\n",
    "import scipy.stats as sps\n",
    "import matplotlib.pyplot as plt\n",
    "import datetime as dt\n",
    "import gc\n",
    "from sklearn.ensemble import RandomForestClassifier\n",
    "from mlxtend.feature_selection import SequentialFeatureSelector as SFS\n",
    "from lightgbm import LGBMClassifier\n",
    "\n",
    "from sklearn.feature_selection import SelectKBest\n",
    "from sklearn.feature_selection import chi2\n",
    "\n",
    "from sklearn.feature_selection import RFE\n",
    "\n",
    "from mlxtend.feature_selection import ExhaustiveFeatureSelector\n",
    "\n",
    "%matplotlib inline\n",
    "start_time = dt.datetime.now()"
   ]
  },
  {
   "cell_type": "code",
   "execution_count": 2,
   "metadata": {
    "ExecuteTime": {
     "end_time": "2022-04-13T23:53:10.124133Z",
     "start_time": "2022-04-13T23:53:10.116326Z"
    }
   },
   "outputs": [],
   "source": [
    "# set some parameters\n",
    "num_files = 1\n",
    "num_filter = 80\n",
    "num_wrapper = 20\n",
    "balance = 0\n",
    "detect_rate = .03\n",
    "index_name = 'Recnum'\n",
    "y_name = 'Fraud'\n",
    "# index_name = 'record'\n",
    "# y_name = 'fraud_label'\n",
    "good_label = 0\n",
    "bad_label = 1"
   ]
  },
  {
   "cell_type": "markdown",
   "metadata": {},
   "source": [
    "## Run a filter on all the files"
   ]
  },
  {
   "cell_type": "code",
   "execution_count": 3,
   "metadata": {
    "ExecuteTime": {
     "end_time": "2022-04-13T23:53:55.516073Z",
     "start_time": "2022-04-13T23:53:10.138563Z"
    }
   },
   "outputs": [
    {
     "name": "stdout",
     "output_type": "stream",
     "text": [
      "********** working on vars.csv size is (96397, 515)\n",
      "100\n",
      "200\n",
      "300\n",
      "400\n",
      "500\n",
      "vars.csv                 variable     score\n",
      "1                  Fraud  1.000000\n",
      "309     card_zip_total_7  0.684729\n",
      "357   card_merch_total_7  0.681017\n",
      "301     card_zip_total_3  0.677675\n",
      "349   card_merch_total_3  0.675054\n",
      "365  card_merch_total_14  0.674867\n",
      "253   card_state_total_3  0.674178\n",
      "317    card_zip_total_14  0.672277\n",
      "261   card_state_total_7  0.669661\n",
      "269  card_state_total_14  0.668943\n",
      "293     card_zip_total_1  0.660589\n",
      "245   card_state_total_1  0.659137\n",
      "373  card_merch_total_30  0.658264\n",
      "341   card_merch_total_1  0.658215\n",
      "315      card_zip_max_14  0.657954\n",
      "307       card_zip_max_7  0.657548\n",
      "325    card_zip_total_30  0.656706\n",
      "363    card_merch_max_14  0.654180\n",
      "323      card_zip_max_30  0.651397\n",
      "355     card_merch_max_7  0.650624\n",
      "CPU times: user 12.9 s, sys: 2.31 s, total: 15.2 s\n",
      "Wall time: 15.6 s\n"
     ]
    }
   ],
   "source": [
    "\n",
    "%%time\n",
    "filter_score_df_list = []\n",
    "for i in range(num_files):\n",
    "#     file_name = \"vars\"+str(i+1)+'.csv'\n",
    "    file_name = 'vars.csv'\n",
    "    df = pd.read_csv(file_name,index_col = [0])\n",
    "#     df = df.drop(columns=['Date', 'Amount'])\n",
    "    print(\"********** working on\",file_name,\"size is\",df.shape)\n",
    "    df = df.set_index(index_name) \n",
    "    df = df[df.index <= 84300] # remove the last two months as the out-of-time data (OOT)\n",
    "    df = df[df.index >= 2995] # remove the first 2 weeks of records since their variables aren't well formed\n",
    "    df['RANDOM'] = np.random.ranf(len(df)) # add a random number variable to make sure it doesn't come up as important\n",
    "    goods = df[df[y_name] == good_label]\n",
    "    bads = df[df[y_name] == bad_label]\n",
    "    del df # don't need this file anymore\n",
    "    num_goods = len(goods)\n",
    "    num_bads = len(bads)\n",
    "    num_vars = len(bads.columns)-2\n",
    "    if(balance != 0):\n",
    "        if(i == 0):\n",
    "            num_goods_desired = int(min(num_goods,num_bads*balance))\n",
    "            goods = goods.sample(n=num_goods_desired,random_state=1)\n",
    "            goods_keep = list(goods.index)\n",
    "            goods_keep.sort()\n",
    "    \n",
    "        if(i > 0):\n",
    "            goods = goods.loc[goods_keep] \n",
    "            \n",
    "    df_sampled = pd.concat([goods,bads])\n",
    "    df_sampled.sort_index(inplace=True)\n",
    "    filter_score = pd.DataFrame(np.zeros((num_vars+1,2)))\n",
    "    filter_score.columns = ['variable','score']   \n",
    "    j = 0\n",
    "    for column in df_sampled:\n",
    "        filter_score.loc[j,'variable'] = column\n",
    "        filter_score.loc[j,'score'] = sps.ks_2samp(goods[column],bads[column])[0]\n",
    "        j = j+1\n",
    "        if j%100 == 0:\n",
    "            print(j)\n",
    "\n",
    "    filter_score.sort_values(by=['score'], ascending=False, inplace=True)\n",
    "    vars_keep = list(filter_score['variable'][1:num_filter+1]) \n",
    "    print(file_name,filter_score.head(20))\n",
    "    if(i == 0): # if first time through need to initialize some stuff\n",
    "        Y = pd.DataFrame(df_sampled[y_name], index=df_sampled.index)\n",
    "        df_top = df_sampled.filter(vars_keep, axis=1)\n",
    "            \n",
    "    if(i > 0): # if more than one variable file we use this loop\n",
    "        data_new_top = df_sampled.filter(vars_keep, axis=1)\n",
    "        df_top = pd.concat([df_top,data_new_top], axis=1)\n",
    "    \n",
    "    \"\"\"\n",
    "    Not that it matters a lot but I usually put the dataframes in a list and concatenate them after coming out of loop.\n",
    "    Someone at my previous organization said that it was more efficient but I did not check the efficiency benefit myself.\n",
    "    \"\"\"\n",
    "#     filter_score = pd.concat([filter_score,new])\n",
    "    filter_score_df_list.append(filter_score)\n",
    "    \n",
    "    del goods # delete these before starting the next file, if any\n",
    "    del bads\n",
    "    gc.collect()\n",
    "filter_score = pd.concat(filter_score_df_list)"
   ]
  },
  {
   "cell_type": "code",
   "execution_count": 4,
   "metadata": {
    "ExecuteTime": {
     "end_time": "2022-04-13T23:53:55.635547Z",
     "start_time": "2022-04-13T23:53:55.530150Z"
    }
   },
   "outputs": [],
   "source": [
    "filter_score.sort_values(by=['score'], ascending=False, inplace=True)"
   ]
  },
  {
   "cell_type": "code",
   "execution_count": 10,
   "metadata": {},
   "outputs": [],
   "source": [
    "target=['Cardnum_total_0', 'Cardnum_total_1','Cardnum_total_3','Cardnum_total_7','Cardnum_total_14', \n",
    "              'card_state_total_1', 'card_state_total_3', 'card_state_total_7', 'card_state_total_14', \n",
    "              'card_zip_total_1','card_zip_total_3', 'card_zip_total_7', 'card_zip_total_14', 'card_zip_total_30', \n",
    "              'card_merch_total_1', 'card_merch_total_3', 'card_merch_total_7', 'card_merch_total_14', \n",
    "              'card_merch_total_30', 'merch_state_total_1']"
   ]
  },
  {
   "cell_type": "code",
   "execution_count": 9,
   "metadata": {},
   "outputs": [],
   "source": [
    "tar_score=[]"
   ]
  },
  {
   "cell_type": "code",
   "execution_count": 27,
   "metadata": {},
   "outputs": [
    {
     "name": "stdout",
     "output_type": "stream",
     "text": [
      "             variable     score\n",
      "309  card_zip_total_7  0.684729\n",
      "               variable     score\n",
      "357  card_merch_total_7  0.681017\n",
      "             variable     score\n",
      "301  card_zip_total_3  0.677675\n",
      "               variable     score\n",
      "349  card_merch_total_3  0.675054\n",
      "                variable     score\n",
      "365  card_merch_total_14  0.674867\n",
      "               variable     score\n",
      "253  card_state_total_3  0.674178\n",
      "              variable     score\n",
      "317  card_zip_total_14  0.672277\n",
      "               variable     score\n",
      "261  card_state_total_7  0.669661\n",
      "                variable     score\n",
      "269  card_state_total_14  0.668943\n",
      "             variable     score\n",
      "293  card_zip_total_1  0.660589\n",
      "               variable     score\n",
      "245  card_state_total_1  0.659137\n",
      "                variable     score\n",
      "373  card_merch_total_30  0.658264\n",
      "               variable     score\n",
      "341  card_merch_total_1  0.658215\n",
      "              variable     score\n",
      "325  card_zip_total_30  0.656706\n",
      "                variable     score\n",
      "437  merch_state_total_1  0.605706\n",
      "            variable     score\n",
      "157  Cardnum_total_3  0.601978\n",
      "            variable     score\n",
      "165  Cardnum_total_7  0.600132\n",
      "            variable     score\n",
      "149  Cardnum_total_1  0.576903\n",
      "            variable     score\n",
      "141  Cardnum_total_0  0.570686\n",
      "             variable     score\n",
      "173  Cardnum_total_14  0.547659\n"
     ]
    }
   ],
   "source": [
    "for i in filter_score['variable']:\n",
    "    if i in target:\n",
    "        print(filter_score.loc[filter_score['variable'] == i])"
   ]
  },
  {
   "cell_type": "code",
   "execution_count": 25,
   "metadata": {},
   "outputs": [
    {
     "name": "stdout",
     "output_type": "stream",
     "text": [
      "             variable     score\n",
      "309  card_zip_total_7  0.684729\n"
     ]
    }
   ],
   "source": [
    "filter_score.loc[filter_score['variable'] =='card_zip_total_7']"
   ]
  },
  {
   "cell_type": "code",
   "execution_count": 18,
   "metadata": {},
   "outputs": [
    {
     "ename": "TypeError",
     "evalue": "'(['Cardnum_total_0', 'Cardnum_total_1', 'Cardnum_total_3', 'Cardnum_total_7', 'Cardnum_total_14', 'card_state_total_1', 'card_state_total_3', 'card_state_total_7', 'card_state_total_14', 'card_zip_total_1', 'card_zip_total_3', 'card_zip_total_7', 'card_zip_total_14', 'card_zip_total_30', 'card_merch_total_1', 'card_merch_total_3', 'card_merch_total_7', 'card_merch_total_14', 'card_merch_total_30', 'merch_state_total_1'], slice(None, None, None))' is an invalid key",
     "output_type": "error",
     "traceback": [
      "\u001b[0;31m---------------------------------------------------------------------------\u001b[0m",
      "\u001b[0;31mTypeError\u001b[0m                                 Traceback (most recent call last)",
      "\u001b[0;32m<ipython-input-18-b4528d534d52>\u001b[0m in \u001b[0;36m<module>\u001b[0;34m\u001b[0m\n\u001b[0;32m----> 1\u001b[0;31m filter_score[['Cardnum_total_0', 'Cardnum_total_1','Cardnum_total_3','Cardnum_total_7','Cardnum_total_14', \n\u001b[0m\u001b[1;32m      2\u001b[0m               \u001b[0;34m'card_state_total_1'\u001b[0m\u001b[0;34m,\u001b[0m \u001b[0;34m'card_state_total_3'\u001b[0m\u001b[0;34m,\u001b[0m \u001b[0;34m'card_state_total_7'\u001b[0m\u001b[0;34m,\u001b[0m \u001b[0;34m'card_state_total_14'\u001b[0m\u001b[0;34m,\u001b[0m\u001b[0;34m\u001b[0m\u001b[0;34m\u001b[0m\u001b[0m\n\u001b[1;32m      3\u001b[0m               \u001b[0;34m'card_zip_total_1'\u001b[0m\u001b[0;34m,\u001b[0m\u001b[0;34m'card_zip_total_3'\u001b[0m\u001b[0;34m,\u001b[0m \u001b[0;34m'card_zip_total_7'\u001b[0m\u001b[0;34m,\u001b[0m \u001b[0;34m'card_zip_total_14'\u001b[0m\u001b[0;34m,\u001b[0m \u001b[0;34m'card_zip_total_30'\u001b[0m\u001b[0;34m,\u001b[0m\u001b[0;34m\u001b[0m\u001b[0;34m\u001b[0m\u001b[0m\n\u001b[1;32m      4\u001b[0m               \u001b[0;34m'card_merch_total_1'\u001b[0m\u001b[0;34m,\u001b[0m \u001b[0;34m'card_merch_total_3'\u001b[0m\u001b[0;34m,\u001b[0m \u001b[0;34m'card_merch_total_7'\u001b[0m\u001b[0;34m,\u001b[0m \u001b[0;34m'card_merch_total_14'\u001b[0m\u001b[0;34m,\u001b[0m\u001b[0;34m\u001b[0m\u001b[0;34m\u001b[0m\u001b[0m\n\u001b[1;32m      5\u001b[0m               'card_merch_total_30', 'merch_state_total_1'],:]\n",
      "\u001b[0;32m~/opt/anaconda3/lib/python3.8/site-packages/pandas/core/frame.py\u001b[0m in \u001b[0;36m__getitem__\u001b[0;34m(self, key)\u001b[0m\n\u001b[1;32m   2900\u001b[0m             \u001b[0;32mif\u001b[0m \u001b[0mself\u001b[0m\u001b[0;34m.\u001b[0m\u001b[0mcolumns\u001b[0m\u001b[0;34m.\u001b[0m\u001b[0mnlevels\u001b[0m \u001b[0;34m>\u001b[0m \u001b[0;36m1\u001b[0m\u001b[0;34m:\u001b[0m\u001b[0;34m\u001b[0m\u001b[0;34m\u001b[0m\u001b[0m\n\u001b[1;32m   2901\u001b[0m                 \u001b[0;32mreturn\u001b[0m \u001b[0mself\u001b[0m\u001b[0;34m.\u001b[0m\u001b[0m_getitem_multilevel\u001b[0m\u001b[0;34m(\u001b[0m\u001b[0mkey\u001b[0m\u001b[0;34m)\u001b[0m\u001b[0;34m\u001b[0m\u001b[0;34m\u001b[0m\u001b[0m\n\u001b[0;32m-> 2902\u001b[0;31m             \u001b[0mindexer\u001b[0m \u001b[0;34m=\u001b[0m \u001b[0mself\u001b[0m\u001b[0;34m.\u001b[0m\u001b[0mcolumns\u001b[0m\u001b[0;34m.\u001b[0m\u001b[0mget_loc\u001b[0m\u001b[0;34m(\u001b[0m\u001b[0mkey\u001b[0m\u001b[0;34m)\u001b[0m\u001b[0;34m\u001b[0m\u001b[0;34m\u001b[0m\u001b[0m\n\u001b[0m\u001b[1;32m   2903\u001b[0m             \u001b[0;32mif\u001b[0m \u001b[0mis_integer\u001b[0m\u001b[0;34m(\u001b[0m\u001b[0mindexer\u001b[0m\u001b[0;34m)\u001b[0m\u001b[0;34m:\u001b[0m\u001b[0;34m\u001b[0m\u001b[0;34m\u001b[0m\u001b[0m\n\u001b[1;32m   2904\u001b[0m                 \u001b[0mindexer\u001b[0m \u001b[0;34m=\u001b[0m \u001b[0;34m[\u001b[0m\u001b[0mindexer\u001b[0m\u001b[0;34m]\u001b[0m\u001b[0;34m\u001b[0m\u001b[0;34m\u001b[0m\u001b[0m\n",
      "\u001b[0;32m~/opt/anaconda3/lib/python3.8/site-packages/pandas/core/indexes/base.py\u001b[0m in \u001b[0;36mget_loc\u001b[0;34m(self, key, method, tolerance)\u001b[0m\n\u001b[1;32m   2893\u001b[0m             \u001b[0mcasted_key\u001b[0m \u001b[0;34m=\u001b[0m \u001b[0mself\u001b[0m\u001b[0;34m.\u001b[0m\u001b[0m_maybe_cast_indexer\u001b[0m\u001b[0;34m(\u001b[0m\u001b[0mkey\u001b[0m\u001b[0;34m)\u001b[0m\u001b[0;34m\u001b[0m\u001b[0;34m\u001b[0m\u001b[0m\n\u001b[1;32m   2894\u001b[0m             \u001b[0;32mtry\u001b[0m\u001b[0;34m:\u001b[0m\u001b[0;34m\u001b[0m\u001b[0;34m\u001b[0m\u001b[0m\n\u001b[0;32m-> 2895\u001b[0;31m                 \u001b[0;32mreturn\u001b[0m \u001b[0mself\u001b[0m\u001b[0;34m.\u001b[0m\u001b[0m_engine\u001b[0m\u001b[0;34m.\u001b[0m\u001b[0mget_loc\u001b[0m\u001b[0;34m(\u001b[0m\u001b[0mcasted_key\u001b[0m\u001b[0;34m)\u001b[0m\u001b[0;34m\u001b[0m\u001b[0;34m\u001b[0m\u001b[0m\n\u001b[0m\u001b[1;32m   2896\u001b[0m             \u001b[0;32mexcept\u001b[0m \u001b[0mKeyError\u001b[0m \u001b[0;32mas\u001b[0m \u001b[0merr\u001b[0m\u001b[0;34m:\u001b[0m\u001b[0;34m\u001b[0m\u001b[0;34m\u001b[0m\u001b[0m\n\u001b[1;32m   2897\u001b[0m                 \u001b[0;32mraise\u001b[0m \u001b[0mKeyError\u001b[0m\u001b[0;34m(\u001b[0m\u001b[0mkey\u001b[0m\u001b[0;34m)\u001b[0m \u001b[0;32mfrom\u001b[0m \u001b[0merr\u001b[0m\u001b[0;34m\u001b[0m\u001b[0;34m\u001b[0m\u001b[0m\n",
      "\u001b[0;32mpandas/_libs/index.pyx\u001b[0m in \u001b[0;36mpandas._libs.index.IndexEngine.get_loc\u001b[0;34m()\u001b[0m\n",
      "\u001b[0;32mpandas/_libs/index.pyx\u001b[0m in \u001b[0;36mpandas._libs.index.IndexEngine.get_loc\u001b[0;34m()\u001b[0m\n",
      "\u001b[0;31mTypeError\u001b[0m: '(['Cardnum_total_0', 'Cardnum_total_1', 'Cardnum_total_3', 'Cardnum_total_7', 'Cardnum_total_14', 'card_state_total_1', 'card_state_total_3', 'card_state_total_7', 'card_state_total_14', 'card_zip_total_1', 'card_zip_total_3', 'card_zip_total_7', 'card_zip_total_14', 'card_zip_total_30', 'card_merch_total_1', 'card_merch_total_3', 'card_merch_total_7', 'card_merch_total_14', 'card_merch_total_30', 'merch_state_total_1'], slice(None, None, None))' is an invalid key"
     ]
    }
   ],
   "source": [
    "filter_score.loc[['Cardnum_total_0', 'Cardnum_total_1','Cardnum_total_3','Cardnum_total_7','Cardnum_total_14', \n",
    "              'card_state_total_1', 'card_state_total_3', 'card_state_total_7', 'card_state_total_14', \n",
    "              'card_zip_total_1','card_zip_total_3', 'card_zip_total_7', 'card_zip_total_14', 'card_zip_total_30', \n",
    "              'card_merch_total_1', 'card_merch_total_3', 'card_merch_total_7', 'card_merch_total_14', \n",
    "              'card_merch_total_30', 'merch_state_total_1'],:]"
   ]
  },
  {
   "cell_type": "code",
   "execution_count": 5,
   "metadata": {
    "ExecuteTime": {
     "end_time": "2022-04-13T23:53:55.740943Z",
     "start_time": "2022-04-13T23:53:55.651755Z"
    }
   },
   "outputs": [
    {
     "data": {
      "text/html": [
       "<div>\n",
       "<style scoped>\n",
       "    .dataframe tbody tr th:only-of-type {\n",
       "        vertical-align: middle;\n",
       "    }\n",
       "\n",
       "    .dataframe tbody tr th {\n",
       "        vertical-align: top;\n",
       "    }\n",
       "\n",
       "    .dataframe thead th {\n",
       "        text-align: right;\n",
       "    }\n",
       "</style>\n",
       "<table border=\"1\" class=\"dataframe\">\n",
       "  <thead>\n",
       "    <tr style=\"text-align: right;\">\n",
       "      <th></th>\n",
       "      <th>variable</th>\n",
       "      <th>score</th>\n",
       "    </tr>\n",
       "  </thead>\n",
       "  <tbody>\n",
       "    <tr>\n",
       "      <th>1</th>\n",
       "      <td>Fraud</td>\n",
       "      <td>1.000000</td>\n",
       "    </tr>\n",
       "    <tr>\n",
       "      <th>309</th>\n",
       "      <td>card_zip_total_7</td>\n",
       "      <td>0.684729</td>\n",
       "    </tr>\n",
       "    <tr>\n",
       "      <th>357</th>\n",
       "      <td>card_merch_total_7</td>\n",
       "      <td>0.681017</td>\n",
       "    </tr>\n",
       "    <tr>\n",
       "      <th>301</th>\n",
       "      <td>card_zip_total_3</td>\n",
       "      <td>0.677675</td>\n",
       "    </tr>\n",
       "    <tr>\n",
       "      <th>349</th>\n",
       "      <td>card_merch_total_3</td>\n",
       "      <td>0.675054</td>\n",
       "    </tr>\n",
       "    <tr>\n",
       "      <th>365</th>\n",
       "      <td>card_merch_total_14</td>\n",
       "      <td>0.674867</td>\n",
       "    </tr>\n",
       "    <tr>\n",
       "      <th>253</th>\n",
       "      <td>card_state_total_3</td>\n",
       "      <td>0.674178</td>\n",
       "    </tr>\n",
       "    <tr>\n",
       "      <th>317</th>\n",
       "      <td>card_zip_total_14</td>\n",
       "      <td>0.672277</td>\n",
       "    </tr>\n",
       "    <tr>\n",
       "      <th>261</th>\n",
       "      <td>card_state_total_7</td>\n",
       "      <td>0.669661</td>\n",
       "    </tr>\n",
       "    <tr>\n",
       "      <th>269</th>\n",
       "      <td>card_state_total_14</td>\n",
       "      <td>0.668943</td>\n",
       "    </tr>\n",
       "    <tr>\n",
       "      <th>293</th>\n",
       "      <td>card_zip_total_1</td>\n",
       "      <td>0.660589</td>\n",
       "    </tr>\n",
       "    <tr>\n",
       "      <th>245</th>\n",
       "      <td>card_state_total_1</td>\n",
       "      <td>0.659137</td>\n",
       "    </tr>\n",
       "    <tr>\n",
       "      <th>373</th>\n",
       "      <td>card_merch_total_30</td>\n",
       "      <td>0.658264</td>\n",
       "    </tr>\n",
       "    <tr>\n",
       "      <th>341</th>\n",
       "      <td>card_merch_total_1</td>\n",
       "      <td>0.658215</td>\n",
       "    </tr>\n",
       "    <tr>\n",
       "      <th>315</th>\n",
       "      <td>card_zip_max_14</td>\n",
       "      <td>0.657954</td>\n",
       "    </tr>\n",
       "    <tr>\n",
       "      <th>307</th>\n",
       "      <td>card_zip_max_7</td>\n",
       "      <td>0.657548</td>\n",
       "    </tr>\n",
       "    <tr>\n",
       "      <th>325</th>\n",
       "      <td>card_zip_total_30</td>\n",
       "      <td>0.656706</td>\n",
       "    </tr>\n",
       "    <tr>\n",
       "      <th>363</th>\n",
       "      <td>card_merch_max_14</td>\n",
       "      <td>0.654180</td>\n",
       "    </tr>\n",
       "    <tr>\n",
       "      <th>323</th>\n",
       "      <td>card_zip_max_30</td>\n",
       "      <td>0.651397</td>\n",
       "    </tr>\n",
       "    <tr>\n",
       "      <th>355</th>\n",
       "      <td>card_merch_max_7</td>\n",
       "      <td>0.650624</td>\n",
       "    </tr>\n",
       "    <tr>\n",
       "      <th>299</th>\n",
       "      <td>card_zip_max_3</td>\n",
       "      <td>0.649824</td>\n",
       "    </tr>\n",
       "    <tr>\n",
       "      <th>371</th>\n",
       "      <td>card_merch_max_30</td>\n",
       "      <td>0.649691</td>\n",
       "    </tr>\n",
       "    <tr>\n",
       "      <th>251</th>\n",
       "      <td>card_state_max_3</td>\n",
       "      <td>0.647986</td>\n",
       "    </tr>\n",
       "    <tr>\n",
       "      <th>259</th>\n",
       "      <td>card_state_max_7</td>\n",
       "      <td>0.647087</td>\n",
       "    </tr>\n",
       "    <tr>\n",
       "      <th>347</th>\n",
       "      <td>card_merch_max_3</td>\n",
       "      <td>0.644909</td>\n",
       "    </tr>\n",
       "    <tr>\n",
       "      <th>277</th>\n",
       "      <td>card_state_total_30</td>\n",
       "      <td>0.635398</td>\n",
       "    </tr>\n",
       "    <tr>\n",
       "      <th>267</th>\n",
       "      <td>card_state_max_14</td>\n",
       "      <td>0.630402</td>\n",
       "    </tr>\n",
       "    <tr>\n",
       "      <th>291</th>\n",
       "      <td>card_zip_max_1</td>\n",
       "      <td>0.626269</td>\n",
       "    </tr>\n",
       "    <tr>\n",
       "      <th>243</th>\n",
       "      <td>card_state_max_1</td>\n",
       "      <td>0.625770</td>\n",
       "    </tr>\n",
       "    <tr>\n",
       "      <th>339</th>\n",
       "      <td>card_merch_max_1</td>\n",
       "      <td>0.620805</td>\n",
       "    </tr>\n",
       "  </tbody>\n",
       "</table>\n",
       "</div>"
      ],
      "text/plain": [
       "                variable     score\n",
       "1                  Fraud  1.000000\n",
       "309     card_zip_total_7  0.684729\n",
       "357   card_merch_total_7  0.681017\n",
       "301     card_zip_total_3  0.677675\n",
       "349   card_merch_total_3  0.675054\n",
       "365  card_merch_total_14  0.674867\n",
       "253   card_state_total_3  0.674178\n",
       "317    card_zip_total_14  0.672277\n",
       "261   card_state_total_7  0.669661\n",
       "269  card_state_total_14  0.668943\n",
       "293     card_zip_total_1  0.660589\n",
       "245   card_state_total_1  0.659137\n",
       "373  card_merch_total_30  0.658264\n",
       "341   card_merch_total_1  0.658215\n",
       "315      card_zip_max_14  0.657954\n",
       "307       card_zip_max_7  0.657548\n",
       "325    card_zip_total_30  0.656706\n",
       "363    card_merch_max_14  0.654180\n",
       "323      card_zip_max_30  0.651397\n",
       "355     card_merch_max_7  0.650624\n",
       "299       card_zip_max_3  0.649824\n",
       "371    card_merch_max_30  0.649691\n",
       "251     card_state_max_3  0.647986\n",
       "259     card_state_max_7  0.647087\n",
       "347     card_merch_max_3  0.644909\n",
       "277  card_state_total_30  0.635398\n",
       "267    card_state_max_14  0.630402\n",
       "291       card_zip_max_1  0.626269\n",
       "243     card_state_max_1  0.625770\n",
       "339     card_merch_max_1  0.620805"
      ]
     },
     "execution_count": 5,
     "metadata": {},
     "output_type": "execute_result"
    }
   ],
   "source": [
    "filter_score.head(30)"
   ]
  },
  {
   "cell_type": "code",
   "execution_count": 6,
   "metadata": {
    "ExecuteTime": {
     "end_time": "2022-04-13T23:53:55.777692Z",
     "start_time": "2022-04-13T23:53:55.749785Z"
    }
   },
   "outputs": [
    {
     "data": {
      "text/html": [
       "<div>\n",
       "<style scoped>\n",
       "    .dataframe tbody tr th:only-of-type {\n",
       "        vertical-align: middle;\n",
       "    }\n",
       "\n",
       "    .dataframe tbody tr th {\n",
       "        vertical-align: top;\n",
       "    }\n",
       "\n",
       "    .dataframe thead th {\n",
       "        text-align: right;\n",
       "    }\n",
       "</style>\n",
       "<table border=\"1\" class=\"dataframe\">\n",
       "  <thead>\n",
       "    <tr style=\"text-align: right;\">\n",
       "      <th></th>\n",
       "      <th>variable</th>\n",
       "      <th>score</th>\n",
       "    </tr>\n",
       "  </thead>\n",
       "  <tbody>\n",
       "    <tr>\n",
       "      <th>36</th>\n",
       "      <td>card_amount_count_0</td>\n",
       "      <td>0.070419</td>\n",
       "    </tr>\n",
       "    <tr>\n",
       "      <th>103</th>\n",
       "      <td>card_amount_count_1_by_7</td>\n",
       "      <td>0.067253</td>\n",
       "    </tr>\n",
       "    <tr>\n",
       "      <th>497</th>\n",
       "      <td>Merchnum_unique_count_for_Cardnum_1</td>\n",
       "      <td>0.063108</td>\n",
       "    </tr>\n",
       "    <tr>\n",
       "      <th>496</th>\n",
       "      <td>Merchnum_unique_count_for_Cardnum_0</td>\n",
       "      <td>0.060309</td>\n",
       "    </tr>\n",
       "    <tr>\n",
       "      <th>120</th>\n",
       "      <td>card_merch_count_1_by_14</td>\n",
       "      <td>0.060124</td>\n",
       "    </tr>\n",
       "    <tr>\n",
       "      <th>87</th>\n",
       "      <td>card_state_count_1_by_7</td>\n",
       "      <td>0.055453</td>\n",
       "    </tr>\n",
       "    <tr>\n",
       "      <th>98</th>\n",
       "      <td>card_amount_count_0_by_3</td>\n",
       "      <td>0.045219</td>\n",
       "    </tr>\n",
       "    <tr>\n",
       "      <th>514</th>\n",
       "      <td>RANDOM</td>\n",
       "      <td>0.034200</td>\n",
       "    </tr>\n",
       "    <tr>\n",
       "      <th>102</th>\n",
       "      <td>card_amount_count_1_by_3</td>\n",
       "      <td>0.032728</td>\n",
       "    </tr>\n",
       "    <tr>\n",
       "      <th>508</th>\n",
       "      <td>Amount_unique_count_for_Merchnum_0</td>\n",
       "      <td>0.029418</td>\n",
       "    </tr>\n",
       "  </tbody>\n",
       "</table>\n",
       "</div>"
      ],
      "text/plain": [
       "                                variable     score\n",
       "36                   card_amount_count_0  0.070419\n",
       "103             card_amount_count_1_by_7  0.067253\n",
       "497  Merchnum_unique_count_for_Cardnum_1  0.063108\n",
       "496  Merchnum_unique_count_for_Cardnum_0  0.060309\n",
       "120             card_merch_count_1_by_14  0.060124\n",
       "87               card_state_count_1_by_7  0.055453\n",
       "98              card_amount_count_0_by_3  0.045219\n",
       "514                               RANDOM  0.034200\n",
       "102             card_amount_count_1_by_3  0.032728\n",
       "508   Amount_unique_count_for_Merchnum_0  0.029418"
      ]
     },
     "execution_count": 6,
     "metadata": {},
     "output_type": "execute_result"
    }
   ],
   "source": [
    "filter_score.tail(10)"
   ]
  },
  {
   "cell_type": "code",
   "execution_count": 7,
   "metadata": {
    "ExecuteTime": {
     "end_time": "2022-04-13T23:53:55.802953Z",
     "start_time": "2022-04-13T23:53:55.789777Z"
    }
   },
   "outputs": [
    {
     "data": {
      "text/plain": [
       "(515, 2)"
      ]
     },
     "execution_count": 7,
     "metadata": {},
     "output_type": "execute_result"
    }
   ],
   "source": [
    "filter_score.shape"
   ]
  },
  {
   "cell_type": "code",
   "execution_count": 8,
   "metadata": {
    "ExecuteTime": {
     "end_time": "2022-04-13T23:53:55.873008Z",
     "start_time": "2022-04-13T23:53:55.809367Z"
    }
   },
   "outputs": [
    {
     "name": "stdout",
     "output_type": "stream",
     "text": [
      " vars_keep: ['card_zip_total_7', 'card_merch_total_7', 'card_zip_total_3', 'card_merch_total_3', 'card_merch_total_14', 'card_state_total_3', 'card_zip_total_14', 'card_state_total_7', 'card_state_total_14', 'card_zip_total_1', 'card_state_total_1', 'card_merch_total_30', 'card_merch_total_1', 'card_zip_max_14', 'card_zip_max_7', 'card_zip_total_30', 'card_merch_max_14', 'card_zip_max_30', 'card_merch_max_7', 'card_zip_max_3', 'card_merch_max_30', 'card_state_max_3', 'card_state_max_7', 'card_merch_max_3', 'card_state_total_30', 'card_state_max_14', 'card_zip_max_1', 'card_state_max_1', 'card_merch_max_1', 'merch_state_total_3', 'card_merch_total_0', 'card_state_total_0', 'card_zip_total_0', 'merch_state_max_0', 'merch_state_total_1', 'card_zip_max_0', 'card_state_max_0', 'merch_zip_total_3', 'Cardnum_total_3', 'card_zip_avg_30', 'merch_zip_max_0', 'card_merch_max_0', 'Cardnum_total_7', 'merch_zip_total_1', 'card_state_max_30', 'Merchnum_max_0', 'card_zip_avg_14', 'card_merch_avg_30', 'card_zip_avg_7', 'merch_state_max_1', 'card_zip_avg_3', 'card_merch_avg_3', 'Merchnum_total_3', 'card_merch_avg_14', 'card_state_avg_3', 'card_merch_avg_7', 'merch_zip_max_1', 'card_state_avg_7', 'Merchnum_total_1', 'Cardnum_max_0', 'card_state_avg_1', 'merch_state_avg_0', 'card_zip_avg_1', 'merch_state_total_0', 'merch_state_total_7', 'merch_zip_avg_0', 'Merchnum_avg_0', 'Cardnum_total_1', 'card_merch_avg_1', 'merch_state_avg_1', 'merch_state_max_3', 'Merchnum_max_1', 'merch_zip_avg_1', 'merch_zip_total_0', 'card_merch_avg_0', 'card_zip_avg_0', 'merch_zip_max_3', 'card_state_avg_14', 'Merchnum_avg_1', 'card_state_avg_0', 'Cardnum_avg_1', 'Cardnum_total_0']\n"
     ]
    }
   ],
   "source": [
    "filter_score.sort_values(by=['score'], ascending=False, inplace=True)\n",
    "vars_keep = list(filter_score['variable'][num_files:num_filter+3])\n",
    "print(' vars_keep:',vars_keep)"
   ]
  },
  {
   "cell_type": "code",
   "execution_count": 9,
   "metadata": {
    "ExecuteTime": {
     "end_time": "2022-04-13T23:53:56.072296Z",
     "start_time": "2022-04-13T23:53:55.931367Z"
    },
    "scrolled": false
   },
   "outputs": [
    {
     "data": {
      "text/html": [
       "<div>\n",
       "<style scoped>\n",
       "    .dataframe tbody tr th:only-of-type {\n",
       "        vertical-align: middle;\n",
       "    }\n",
       "\n",
       "    .dataframe tbody tr th {\n",
       "        vertical-align: top;\n",
       "    }\n",
       "\n",
       "    .dataframe thead th {\n",
       "        text-align: right;\n",
       "    }\n",
       "</style>\n",
       "<table border=\"1\" class=\"dataframe\">\n",
       "  <thead>\n",
       "    <tr style=\"text-align: right;\">\n",
       "      <th></th>\n",
       "      <th>card_zip_total_7</th>\n",
       "      <th>card_merch_total_7</th>\n",
       "      <th>card_zip_total_3</th>\n",
       "      <th>card_merch_total_3</th>\n",
       "      <th>card_merch_total_14</th>\n",
       "      <th>card_state_total_3</th>\n",
       "      <th>card_zip_total_14</th>\n",
       "      <th>card_state_total_7</th>\n",
       "      <th>card_state_total_14</th>\n",
       "      <th>card_zip_total_1</th>\n",
       "      <th>...</th>\n",
       "      <th>merch_state_max_3</th>\n",
       "      <th>Merchnum_max_1</th>\n",
       "      <th>merch_zip_avg_1</th>\n",
       "      <th>merch_zip_total_0</th>\n",
       "      <th>card_merch_avg_0</th>\n",
       "      <th>card_zip_avg_0</th>\n",
       "      <th>merch_zip_max_3</th>\n",
       "      <th>card_state_avg_14</th>\n",
       "      <th>Merchnum_avg_1</th>\n",
       "      <th>card_state_avg_0</th>\n",
       "    </tr>\n",
       "    <tr>\n",
       "      <th>Recnum</th>\n",
       "      <th></th>\n",
       "      <th></th>\n",
       "      <th></th>\n",
       "      <th></th>\n",
       "      <th></th>\n",
       "      <th></th>\n",
       "      <th></th>\n",
       "      <th></th>\n",
       "      <th></th>\n",
       "      <th></th>\n",
       "      <th></th>\n",
       "      <th></th>\n",
       "      <th></th>\n",
       "      <th></th>\n",
       "      <th></th>\n",
       "      <th></th>\n",
       "      <th></th>\n",
       "      <th></th>\n",
       "      <th></th>\n",
       "      <th></th>\n",
       "      <th></th>\n",
       "    </tr>\n",
       "  </thead>\n",
       "  <tbody>\n",
       "    <tr>\n",
       "      <th>2995</th>\n",
       "      <td>1023.04</td>\n",
       "      <td>1023.04</td>\n",
       "      <td>174.20</td>\n",
       "      <td>174.20</td>\n",
       "      <td>1023.04</td>\n",
       "      <td>174.20</td>\n",
       "      <td>1023.04</td>\n",
       "      <td>1023.04</td>\n",
       "      <td>1023.04</td>\n",
       "      <td>174.20</td>\n",
       "      <td>...</td>\n",
       "      <td>2454.99</td>\n",
       "      <td>174.20</td>\n",
       "      <td>174.2000</td>\n",
       "      <td>174.20</td>\n",
       "      <td>174.20</td>\n",
       "      <td>174.20</td>\n",
       "      <td>2454.99</td>\n",
       "      <td>341.013333</td>\n",
       "      <td>174.2000</td>\n",
       "      <td>174.20</td>\n",
       "    </tr>\n",
       "    <tr>\n",
       "      <th>2996</th>\n",
       "      <td>250.00</td>\n",
       "      <td>250.00</td>\n",
       "      <td>250.00</td>\n",
       "      <td>250.00</td>\n",
       "      <td>250.00</td>\n",
       "      <td>250.00</td>\n",
       "      <td>250.00</td>\n",
       "      <td>250.00</td>\n",
       "      <td>250.00</td>\n",
       "      <td>250.00</td>\n",
       "      <td>...</td>\n",
       "      <td>250.00</td>\n",
       "      <td>250.00</td>\n",
       "      <td>250.0000</td>\n",
       "      <td>250.00</td>\n",
       "      <td>250.00</td>\n",
       "      <td>250.00</td>\n",
       "      <td>250.00</td>\n",
       "      <td>250.000000</td>\n",
       "      <td>250.0000</td>\n",
       "      <td>250.00</td>\n",
       "    </tr>\n",
       "    <tr>\n",
       "      <th>2997</th>\n",
       "      <td>76.85</td>\n",
       "      <td>76.85</td>\n",
       "      <td>76.85</td>\n",
       "      <td>76.85</td>\n",
       "      <td>76.85</td>\n",
       "      <td>76.85</td>\n",
       "      <td>76.85</td>\n",
       "      <td>76.85</td>\n",
       "      <td>76.85</td>\n",
       "      <td>53.88</td>\n",
       "      <td>...</td>\n",
       "      <td>1097.60</td>\n",
       "      <td>999.90</td>\n",
       "      <td>223.3100</td>\n",
       "      <td>53.88</td>\n",
       "      <td>53.88</td>\n",
       "      <td>53.88</td>\n",
       "      <td>1097.60</td>\n",
       "      <td>38.425000</td>\n",
       "      <td>223.3100</td>\n",
       "      <td>53.88</td>\n",
       "    </tr>\n",
       "    <tr>\n",
       "      <th>2998</th>\n",
       "      <td>1269.00</td>\n",
       "      <td>1269.00</td>\n",
       "      <td>1269.00</td>\n",
       "      <td>1269.00</td>\n",
       "      <td>1269.00</td>\n",
       "      <td>1269.00</td>\n",
       "      <td>1269.00</td>\n",
       "      <td>1269.00</td>\n",
       "      <td>1269.00</td>\n",
       "      <td>1269.00</td>\n",
       "      <td>...</td>\n",
       "      <td>2237.00</td>\n",
       "      <td>1269.00</td>\n",
       "      <td>370.3375</td>\n",
       "      <td>1269.00</td>\n",
       "      <td>1269.00</td>\n",
       "      <td>1269.00</td>\n",
       "      <td>2237.00</td>\n",
       "      <td>1269.000000</td>\n",
       "      <td>370.3375</td>\n",
       "      <td>1269.00</td>\n",
       "    </tr>\n",
       "    <tr>\n",
       "      <th>2999</th>\n",
       "      <td>288.38</td>\n",
       "      <td>288.38</td>\n",
       "      <td>288.38</td>\n",
       "      <td>288.38</td>\n",
       "      <td>288.38</td>\n",
       "      <td>288.38</td>\n",
       "      <td>288.38</td>\n",
       "      <td>288.38</td>\n",
       "      <td>288.38</td>\n",
       "      <td>288.38</td>\n",
       "      <td>...</td>\n",
       "      <td>601.52</td>\n",
       "      <td>601.52</td>\n",
       "      <td>396.5600</td>\n",
       "      <td>288.38</td>\n",
       "      <td>288.38</td>\n",
       "      <td>288.38</td>\n",
       "      <td>601.52</td>\n",
       "      <td>288.380000</td>\n",
       "      <td>396.5600</td>\n",
       "      <td>288.38</td>\n",
       "    </tr>\n",
       "  </tbody>\n",
       "</table>\n",
       "<p>5 rows × 80 columns</p>\n",
       "</div>"
      ],
      "text/plain": [
       "        card_zip_total_7  card_merch_total_7  card_zip_total_3  \\\n",
       "Recnum                                                           \n",
       "2995             1023.04             1023.04            174.20   \n",
       "2996              250.00              250.00            250.00   \n",
       "2997               76.85               76.85             76.85   \n",
       "2998             1269.00             1269.00           1269.00   \n",
       "2999              288.38              288.38            288.38   \n",
       "\n",
       "        card_merch_total_3  card_merch_total_14  card_state_total_3  \\\n",
       "Recnum                                                                \n",
       "2995                174.20              1023.04              174.20   \n",
       "2996                250.00               250.00              250.00   \n",
       "2997                 76.85                76.85               76.85   \n",
       "2998               1269.00              1269.00             1269.00   \n",
       "2999                288.38               288.38              288.38   \n",
       "\n",
       "        card_zip_total_14  card_state_total_7  card_state_total_14  \\\n",
       "Recnum                                                               \n",
       "2995              1023.04             1023.04              1023.04   \n",
       "2996               250.00              250.00               250.00   \n",
       "2997                76.85               76.85                76.85   \n",
       "2998              1269.00             1269.00              1269.00   \n",
       "2999               288.38              288.38               288.38   \n",
       "\n",
       "        card_zip_total_1  ...  merch_state_max_3  Merchnum_max_1  \\\n",
       "Recnum                    ...                                      \n",
       "2995              174.20  ...            2454.99          174.20   \n",
       "2996              250.00  ...             250.00          250.00   \n",
       "2997               53.88  ...            1097.60          999.90   \n",
       "2998             1269.00  ...            2237.00         1269.00   \n",
       "2999              288.38  ...             601.52          601.52   \n",
       "\n",
       "        merch_zip_avg_1  merch_zip_total_0  card_merch_avg_0  card_zip_avg_0  \\\n",
       "Recnum                                                                         \n",
       "2995           174.2000             174.20            174.20          174.20   \n",
       "2996           250.0000             250.00            250.00          250.00   \n",
       "2997           223.3100              53.88             53.88           53.88   \n",
       "2998           370.3375            1269.00           1269.00         1269.00   \n",
       "2999           396.5600             288.38            288.38          288.38   \n",
       "\n",
       "        merch_zip_max_3  card_state_avg_14  Merchnum_avg_1  card_state_avg_0  \n",
       "Recnum                                                                        \n",
       "2995            2454.99         341.013333        174.2000            174.20  \n",
       "2996             250.00         250.000000        250.0000            250.00  \n",
       "2997            1097.60          38.425000        223.3100             53.88  \n",
       "2998            2237.00        1269.000000        370.3375           1269.00  \n",
       "2999             601.52         288.380000        396.5600            288.38  \n",
       "\n",
       "[5 rows x 80 columns]"
      ]
     },
     "execution_count": 9,
     "metadata": {},
     "output_type": "execute_result"
    }
   ],
   "source": [
    "vars_keep_df = pd.DataFrame({'col':vars_keep})\n",
    "vars_keep_df.to_csv('vars_keep_filter.csv',index=False)\n",
    "df_keep = df_top.filter(vars_keep, axis=1)\n",
    "df_keep.head()"
   ]
  },
  {
   "cell_type": "code",
   "execution_count": 10,
   "metadata": {
    "ExecuteTime": {
     "end_time": "2022-04-13T23:53:56.122451Z",
     "start_time": "2022-04-13T23:53:56.106007Z"
    }
   },
   "outputs": [
    {
     "data": {
      "text/plain": [
       "(80983, 80)"
      ]
     },
     "execution_count": 10,
     "metadata": {},
     "output_type": "execute_result"
    }
   ],
   "source": [
    "df_keep.shape"
   ]
  },
  {
   "cell_type": "code",
   "execution_count": 11,
   "metadata": {
    "ExecuteTime": {
     "end_time": "2022-04-13T23:53:56.155548Z",
     "start_time": "2022-04-13T23:53:56.130705Z"
    }
   },
   "outputs": [
    {
     "data": {
      "text/html": [
       "<div>\n",
       "<style scoped>\n",
       "    .dataframe tbody tr th:only-of-type {\n",
       "        vertical-align: middle;\n",
       "    }\n",
       "\n",
       "    .dataframe tbody tr th {\n",
       "        vertical-align: top;\n",
       "    }\n",
       "\n",
       "    .dataframe thead th {\n",
       "        text-align: right;\n",
       "    }\n",
       "</style>\n",
       "<table border=\"1\" class=\"dataframe\">\n",
       "  <thead>\n",
       "    <tr style=\"text-align: right;\">\n",
       "      <th></th>\n",
       "      <th>Fraud</th>\n",
       "    </tr>\n",
       "    <tr>\n",
       "      <th>Recnum</th>\n",
       "      <th></th>\n",
       "    </tr>\n",
       "  </thead>\n",
       "  <tbody>\n",
       "    <tr>\n",
       "      <th>2995</th>\n",
       "      <td>0</td>\n",
       "    </tr>\n",
       "    <tr>\n",
       "      <th>2996</th>\n",
       "      <td>0</td>\n",
       "    </tr>\n",
       "    <tr>\n",
       "      <th>2997</th>\n",
       "      <td>0</td>\n",
       "    </tr>\n",
       "    <tr>\n",
       "      <th>2998</th>\n",
       "      <td>0</td>\n",
       "    </tr>\n",
       "    <tr>\n",
       "      <th>2999</th>\n",
       "      <td>0</td>\n",
       "    </tr>\n",
       "  </tbody>\n",
       "</table>\n",
       "</div>"
      ],
      "text/plain": [
       "        Fraud\n",
       "Recnum       \n",
       "2995        0\n",
       "2996        0\n",
       "2997        0\n",
       "2998        0\n",
       "2999        0"
      ]
     },
     "execution_count": 11,
     "metadata": {},
     "output_type": "execute_result"
    }
   ],
   "source": [
    "Y.head()"
   ]
  },
  {
   "cell_type": "code",
   "execution_count": 12,
   "metadata": {
    "ExecuteTime": {
     "end_time": "2022-04-13T23:53:56.175528Z",
     "start_time": "2022-04-13T23:53:56.165316Z"
    }
   },
   "outputs": [],
   "source": [
    "Y = Y.values\n",
    "Y_save = Y.copy()"
   ]
  },
  {
   "cell_type": "code",
   "execution_count": 13,
   "metadata": {
    "ExecuteTime": {
     "end_time": "2022-04-13T23:53:56.194939Z",
     "start_time": "2022-04-13T23:53:56.184716Z"
    }
   },
   "outputs": [
    {
     "name": "stdout",
     "output_type": "stream",
     "text": [
      "[[0]\n",
      " [0]\n",
      " [0]\n",
      " ...\n",
      " [0]\n",
      " [0]\n",
      " [0]]\n"
     ]
    }
   ],
   "source": [
    "# Y = np.array(Y)\n",
    "X = df_keep\n",
    "print(Y)"
   ]
  },
  {
   "cell_type": "code",
   "execution_count": 14,
   "metadata": {
    "ExecuteTime": {
     "end_time": "2022-04-13T23:53:56.222841Z",
     "start_time": "2022-04-13T23:53:56.208079Z"
    }
   },
   "outputs": [
    {
     "name": "stdout",
     "output_type": "stream",
     "text": [
      "time to here: 0:00:52.492785\n"
     ]
    }
   ],
   "source": [
    "print('time to here:', dt.datetime.now() - start_time)"
   ]
  },
  {
   "cell_type": "code",
   "execution_count": 15,
   "metadata": {
    "ExecuteTime": {
     "end_time": "2022-04-13T23:53:56.244979Z",
     "start_time": "2022-04-13T23:53:56.236225Z"
    }
   },
   "outputs": [
    {
     "name": "stdout",
     "output_type": "stream",
     "text": [
      "(80983, 80) (80983, 1)\n"
     ]
    }
   ],
   "source": [
    "print(X.shape,Y.shape)"
   ]
  },
  {
   "cell_type": "code",
   "execution_count": 16,
   "metadata": {
    "ExecuteTime": {
     "end_time": "2022-04-13T23:53:56.264133Z",
     "start_time": "2022-04-13T23:53:56.254284Z"
    }
   },
   "outputs": [
    {
     "name": "stdout",
     "output_type": "stream",
     "text": [
      "<class 'pandas.core.frame.DataFrame'> <class 'numpy.ndarray'>\n"
     ]
    }
   ],
   "source": [
    "print(type(X),type(Y))"
   ]
  },
  {
   "cell_type": "code",
   "execution_count": 17,
   "metadata": {
    "ExecuteTime": {
     "end_time": "2022-04-13T23:53:56.278096Z",
     "start_time": "2022-04-13T23:53:56.271748Z"
    }
   },
   "outputs": [],
   "source": [
    "# I'd like to define a scoring for the wrapper that's KS, but I haven't gotten around to this yet.\n",
    "# def KSscore(classifier, x,y)\n",
    "#     goods = "
   ]
  },
  {
   "cell_type": "code",
   "execution_count": 18,
   "metadata": {
    "ExecuteTime": {
     "end_time": "2022-04-13T23:53:56.306663Z",
     "start_time": "2022-04-13T23:53:56.290482Z"
    }
   },
   "outputs": [],
   "source": [
    "def fdr(classifier, x, y, cutoff=detect_rate):\n",
    "# Calculates FDR score for the given classifier on dataset x and y with cutoff value\n",
    "# get the probability list from the given classifier\n",
    "    return fdr_prob(y, classifier.predict_proba(x), cutoff)\n",
    "def fdr_prob(y, y_prob, cutoff=detect_rate):\n",
    "    if len(y_prob.shape) != 1:    # sometimes the proba list can contain many columns, one for each category\n",
    "        y_prob = y_prob[:, -1:]   # only the last one (fraud_label==1) is used here.\n",
    "    num_fraud = len(y[y == 1])    # count the total nunber of frauds   \n",
    "# sort the proba list from high to low while retain the true (not predicted) fraud label\n",
    "    sorted_prob = np.asarray(sorted(zip(y_prob, y), key=lambda x: x[0], reverse=True))\n",
    "    cutoff_bin = sorted_prob[0:int(len(y) * cutoff), 1:]  # 3% cutoff\n",
    "# return the FDR score (#fraud_in_cutoff / #total_fraud)\n",
    "    return len(cutoff_bin[cutoff_bin == 1]) / num_fraud   "
   ]
  },
  {
   "cell_type": "code",
   "execution_count": 19,
   "metadata": {
    "ExecuteTime": {
     "start_time": "2022-04-13T23:53:03.160Z"
    },
    "scrolled": false
   },
   "outputs": [
    {
     "name": "stderr",
     "output_type": "stream",
     "text": [
      "[Parallel(n_jobs=-1)]: Using backend LokyBackend with 8 concurrent workers.\n",
      "[Parallel(n_jobs=-1)]: Done  25 tasks      | elapsed:   47.8s\n",
      "[Parallel(n_jobs=-1)]: Done  80 out of  80 | elapsed:  1.5min finished\n",
      "\n",
      "[2022-04-21 18:08:19] Features: 1/20 -- score: 0.6151697407110398[Parallel(n_jobs=-1)]: Using backend LokyBackend with 8 concurrent workers.\n",
      "[Parallel(n_jobs=-1)]: Done  25 tasks      | elapsed:   33.3s\n",
      "[Parallel(n_jobs=-1)]: Done  79 out of  79 | elapsed:  1.5min finished\n",
      "\n",
      "[2022-04-21 18:09:49] Features: 2/20 -- score: 0.6683507083667468[Parallel(n_jobs=-1)]: Using backend LokyBackend with 8 concurrent workers.\n",
      "[Parallel(n_jobs=-1)]: Done  25 tasks      | elapsed:   43.1s\n",
      "[Parallel(n_jobs=-1)]: Done  78 out of  78 | elapsed:  1.6min finished\n",
      "\n",
      "[2022-04-21 18:11:26] Features: 3/20 -- score: 0.6798182304196738[Parallel(n_jobs=-1)]: Using backend LokyBackend with 8 concurrent workers.\n",
      "[Parallel(n_jobs=-1)]: Done  25 tasks      | elapsed:   34.3s\n",
      "[Parallel(n_jobs=-1)]: Done  77 out of  77 | elapsed:  1.5min finished\n",
      "\n",
      "[2022-04-21 18:12:57] Features: 4/20 -- score: 0.6821304464047047[Parallel(n_jobs=-1)]: Using backend LokyBackend with 8 concurrent workers.\n",
      "[Parallel(n_jobs=-1)]: Done  25 tasks      | elapsed:   41.5s\n",
      "[Parallel(n_jobs=-1)]: Done  76 out of  76 | elapsed:  1.6min finished\n",
      "\n",
      "[2022-04-21 18:14:35] Features: 5/20 -- score: 0.6844292969794173[Parallel(n_jobs=-1)]: Using backend LokyBackend with 8 concurrent workers.\n",
      "[Parallel(n_jobs=-1)]: Done  25 tasks      | elapsed:   37.3s\n",
      "[Parallel(n_jobs=-1)]: Done  75 out of  75 | elapsed:  1.6min finished\n",
      "\n",
      "[2022-04-21 18:16:10] Features: 6/20 -- score: 0.6844159315690992[Parallel(n_jobs=-1)]: Using backend LokyBackend with 8 concurrent workers.\n",
      "[Parallel(n_jobs=-1)]: Done  25 tasks      | elapsed:   35.8s\n",
      "[Parallel(n_jobs=-1)]: Done  74 out of  74 | elapsed:  1.6min finished\n",
      "\n",
      "[2022-04-21 18:17:45] Features: 7/20 -- score: 0.6855653568564556[Parallel(n_jobs=-1)]: Using backend LokyBackend with 8 concurrent workers.\n",
      "[Parallel(n_jobs=-1)]: Done  25 tasks      | elapsed:   42.1s\n",
      "[Parallel(n_jobs=-1)]: Done  73 out of  73 | elapsed:  1.8min finished\n",
      "\n",
      "[2022-04-21 18:19:31] Features: 8/20 -- score: 0.6855653568564556[Parallel(n_jobs=-1)]: Using backend LokyBackend with 8 concurrent workers.\n",
      "[Parallel(n_jobs=-1)]: Done  25 tasks      | elapsed:   45.6s\n",
      "[Parallel(n_jobs=-1)]: Done  72 out of  72 | elapsed:  1.8min finished\n",
      "\n",
      "[2022-04-21 18:21:19] Features: 9/20 -- score: 0.6855653568564556[Parallel(n_jobs=-1)]: Using backend LokyBackend with 8 concurrent workers.\n",
      "[Parallel(n_jobs=-1)]: Done  25 tasks      | elapsed:   52.6s\n",
      "[Parallel(n_jobs=-1)]: Done  71 out of  71 | elapsed:  2.0min finished\n",
      "\n",
      "[2022-04-21 18:23:16] Features: 10/20 -- score: 0.6855653568564556[Parallel(n_jobs=-1)]: Using backend LokyBackend with 8 concurrent workers.\n",
      "[Parallel(n_jobs=-1)]: Done  25 tasks      | elapsed:   53.6s\n",
      "[Parallel(n_jobs=-1)]: Done  70 out of  70 | elapsed:  2.0min finished\n",
      "\n",
      "[2022-04-21 18:25:15] Features: 11/20 -- score: 0.6855653568564556[Parallel(n_jobs=-1)]: Using backend LokyBackend with 8 concurrent workers.\n",
      "[Parallel(n_jobs=-1)]: Done  25 tasks      | elapsed:   55.8s\n",
      "[Parallel(n_jobs=-1)]: Done  69 out of  69 | elapsed:  1.9min finished\n",
      "\n",
      "[2022-04-21 18:27:11] Features: 12/20 -- score: 0.6832665062817428[Parallel(n_jobs=-1)]: Using backend LokyBackend with 8 concurrent workers.\n",
      "[Parallel(n_jobs=-1)]: Done  25 tasks      | elapsed:  1.0min\n",
      "[Parallel(n_jobs=-1)]: Done  68 out of  68 | elapsed:  2.1min finished\n",
      "\n",
      "[2022-04-21 18:29:20] Features: 13/20 -- score: 0.6797914995990377[Parallel(n_jobs=-1)]: Using backend LokyBackend with 8 concurrent workers.\n",
      "[Parallel(n_jobs=-1)]: Done  25 tasks      | elapsed:  1.0min\n",
      "[Parallel(n_jobs=-1)]: Done  67 out of  67 | elapsed:  2.3min finished\n",
      "\n",
      "[2022-04-21 18:31:36] Features: 14/20 -- score: 0.677492649024325[Parallel(n_jobs=-1)]: Using backend LokyBackend with 8 concurrent workers.\n",
      "[Parallel(n_jobs=-1)]: Done  25 tasks      | elapsed:  1.1min\n",
      "[Parallel(n_jobs=-1)]: Done  66 out of  66 | elapsed:  3.0min finished\n",
      "\n",
      "[2022-04-21 18:34:37] Features: 15/20 -- score: 0.6763031275060145[Parallel(n_jobs=-1)]: Using backend LokyBackend with 8 concurrent workers.\n",
      "[Parallel(n_jobs=-1)]: Done  25 tasks      | elapsed:  1.3min\n",
      "[Parallel(n_jobs=-1)]: Done  65 out of  65 | elapsed:  2.7min finished\n",
      "\n",
      "[2022-04-21 18:37:18] Features: 16/20 -- score: 0.6797514033680834[Parallel(n_jobs=-1)]: Using backend LokyBackend with 8 concurrent workers.\n",
      "[Parallel(n_jobs=-1)]: Done  25 tasks      | elapsed:  1.0min\n",
      "[Parallel(n_jobs=-1)]: Done  64 out of  64 | elapsed:  2.5min finished\n",
      "\n",
      "[2022-04-21 18:39:47] Features: 17/20 -- score: 0.6809008286554397[Parallel(n_jobs=-1)]: Using backend LokyBackend with 8 concurrent workers.\n",
      "[Parallel(n_jobs=-1)]: Done  25 tasks      | elapsed:  1.5min\n",
      "[Parallel(n_jobs=-1)]: Done  63 out of  63 | elapsed:  2.8min finished\n",
      "\n",
      "[2022-04-21 18:42:38] Features: 18/20 -- score: 0.6809008286554397[Parallel(n_jobs=-1)]: Using backend LokyBackend with 8 concurrent workers.\n",
      "[Parallel(n_jobs=-1)]: Done  25 tasks      | elapsed:  1.4min\n",
      "[Parallel(n_jobs=-1)]: Done  62 out of  62 | elapsed:  2.8min finished\n",
      "\n",
      "[2022-04-21 18:45:23] Features: 19/20 -- score: 0.6809008286554397[Parallel(n_jobs=-1)]: Using backend LokyBackend with 8 concurrent workers.\n",
      "[Parallel(n_jobs=-1)]: Done  25 tasks      | elapsed:  1.7min\n",
      "[Parallel(n_jobs=-1)]: Done  61 out of  61 | elapsed:  3.2min finished\n",
      "\n",
      "[2022-04-21 18:48:38] Features: 20/20 -- score: 0.6809008286554397"
     ]
    },
    {
     "name": "stdout",
     "output_type": "stream",
     "text": [
      "CPU times: user 15.6 s, sys: 24.1 s, total: 39.8 s\n",
      "Wall time: 41min 51s\n"
     ]
    },
    {
     "data": {
      "text/plain": [
       "SequentialFeatureSelector(cv=10,\n",
       "                          estimator=LGBMClassifier(n_estimators=30,\n",
       "                                                   num_leaves=3),\n",
       "                          k_features=20, n_jobs=-1,\n",
       "                          scoring=<function fdr at 0x7f9ef05bfdc0>, verbose=2)"
      ]
     },
     "execution_count": 19,
     "metadata": {},
     "output_type": "execute_result"
    }
   ],
   "source": [
    "%%time\n",
    "import warnings \n",
    "warnings.filterwarnings(\"ignore\", category=np.VisibleDeprecationWarning) \n",
    "# If you're doing forward selection it's enough to stop at num_wrapper variables. \n",
    "# If you're doing backward selection you need to go through all the variables to get \n",
    "# a sorted list of num_wrapper variables.\n",
    "nfeatures = len(X.columns)\n",
    "# clf = RandomForestClassifier(n_estimators=5) # simple, fast nonlinear model for the wrapper\n",
    "clf = LGBMClassifier(n_estimators=30,num_leaves=3) # simple, fast nonlinear model for the wrapper\n",
    "sfs = SFS(clf,k_features=num_wrapper,forward=True,verbose=2,scoring=fdr,cv=10,n_jobs=-1) # forward selection\n",
    "# sfs = SFS(clf,k_features=1,forward=False,verbose=2,scoring=fdr,cv=2,n_jobs=-1) # backward selection\n",
    "sfs.fit(X,Y)"
   ]
  },
  {
   "cell_type": "code",
   "execution_count": 20,
   "metadata": {
    "ExecuteTime": {
     "start_time": "2022-04-13T23:53:03.163Z"
    }
   },
   "outputs": [
    {
     "data": {
      "image/png": "[encoded data removed]",
      "text/plain": [
       "<Figure size 1080x432 with 1 Axes>"
      ]
     },
     "metadata": {
      "needs_background": "light"
     },
     "output_type": "display_data"
    }
   ],
   "source": [
    "from mlxtend.plotting import plot_sequential_feature_selection as plot_sfs\n",
    "fig1 = plot_sfs(sfs.get_metric_dict(),kind='std_dev', figsize=(15, 6))\n",
    "plt.xticks(np.arange(0, len(X.columns), step=5))\n",
    "plt.yticks(np.arange(0,1,step=.1))\n",
    "plt.ylim([0., 1])\n",
    "plt.xlim(0,num_wrapper)\n",
    "plt.title('Stepwise Selection')\n",
    "plt.grid()\n",
    "plt.savefig('FS_fdr.png')\n",
    "plt.show()"
   ]
  },
  {
   "cell_type": "code",
   "execution_count": 21,
   "metadata": {
    "ExecuteTime": {
     "start_time": "2022-04-13T23:53:03.167Z"
    },
    "scrolled": false
   },
   "outputs": [],
   "source": [
    "vars_FS = pd.DataFrame.from_dict(sfs.get_metric_dict()).T"
   ]
  },
  {
   "cell_type": "code",
   "execution_count": 22,
   "metadata": {
    "ExecuteTime": {
     "start_time": "2022-04-13T23:53:03.169Z"
    }
   },
   "outputs": [],
   "source": [
    "ordered_vars_FS = vars_FS.copy()\n",
    "for i in range(len(ordered_vars_FS)):\n",
    "    ordered_vars_FS.loc[i+1,'add variables in this order'] = int(i+1)\n",
    "    if i+1 == 1:\n",
    "        ordered_vars_FS.loc[i+1,'variable name'] = list(ordered_vars_FS.loc[i+1,'feature_names'])[0]\n",
    "    else:\n",
    "        ordered_vars_FS.loc[i+1,'variable name'] = set(ordered_vars_FS.loc[i+1,'feature_names']) - set(ordered_vars_FS.loc[i,'feature_names'])"
   ]
  },
  {
   "cell_type": "code",
   "execution_count": 23,
   "metadata": {
    "ExecuteTime": {
     "start_time": "2022-04-13T23:53:03.173Z"
    }
   },
   "outputs": [
    {
     "data": {
      "text/html": [
       "<div>\n",
       "<style scoped>\n",
       "    .dataframe tbody tr th:only-of-type {\n",
       "        vertical-align: middle;\n",
       "    }\n",
       "\n",
       "    .dataframe tbody tr th {\n",
       "        vertical-align: top;\n",
       "    }\n",
       "\n",
       "    .dataframe thead th {\n",
       "        text-align: right;\n",
       "    }\n",
       "</style>\n",
       "<table border=\"1\" class=\"dataframe\">\n",
       "  <thead>\n",
       "    <tr style=\"text-align: right;\">\n",
       "      <th></th>\n",
       "      <th>feature_idx</th>\n",
       "      <th>cv_scores</th>\n",
       "      <th>avg_score</th>\n",
       "      <th>feature_names</th>\n",
       "      <th>ci_bound</th>\n",
       "      <th>std_dev</th>\n",
       "      <th>std_err</th>\n",
       "      <th>add variables in this order</th>\n",
       "      <th>variable name</th>\n",
       "    </tr>\n",
       "  </thead>\n",
       "  <tbody>\n",
       "    <tr>\n",
       "      <th>1</th>\n",
       "      <td>(2,)</td>\n",
       "      <td>[0.4482758620689655, 0.5632183908045977, 0.827...</td>\n",
       "      <td>0.61517</td>\n",
       "      <td>(card_zip_total_3,)</td>\n",
       "      <td>0.109339</td>\n",
       "      <td>0.147216</td>\n",
       "      <td>0.0490721</td>\n",
       "      <td>1.0</td>\n",
       "      <td>card_zip_total_3</td>\n",
       "    </tr>\n",
       "    <tr>\n",
       "      <th>2</th>\n",
       "      <td>(2, 44)</td>\n",
       "      <td>[0.6206896551724138, 0.6206896551724138, 0.724...</td>\n",
       "      <td>0.668351</td>\n",
       "      <td>(card_zip_total_3, card_state_max_30)</td>\n",
       "      <td>0.0959979</td>\n",
       "      <td>0.129253</td>\n",
       "      <td>0.0430844</td>\n",
       "      <td>2.0</td>\n",
       "      <td>card_state_max_30</td>\n",
       "    </tr>\n",
       "    <tr>\n",
       "      <th>3</th>\n",
       "      <td>(2, 4, 44)</td>\n",
       "      <td>[0.6206896551724138, 0.6091954022988506, 0.804...</td>\n",
       "      <td>0.679818</td>\n",
       "      <td>(card_zip_total_3, card_merch_total_14, card_s...</td>\n",
       "      <td>0.0976078</td>\n",
       "      <td>0.131421</td>\n",
       "      <td>0.0438069</td>\n",
       "      <td>3.0</td>\n",
       "      <td>card_merch_total_14</td>\n",
       "    </tr>\n",
       "    <tr>\n",
       "      <th>4</th>\n",
       "      <td>(1, 2, 4, 44)</td>\n",
       "      <td>[0.6206896551724138, 0.6091954022988506, 0.793...</td>\n",
       "      <td>0.68213</td>\n",
       "      <td>(card_merch_total_7, card_zip_total_3, card_me...</td>\n",
       "      <td>0.0987269</td>\n",
       "      <td>0.132927</td>\n",
       "      <td>0.0443091</td>\n",
       "      <td>4.0</td>\n",
       "      <td>card_merch_total_7</td>\n",
       "    </tr>\n",
       "    <tr>\n",
       "      <th>5</th>\n",
       "      <td>(1, 2, 4, 24, 44)</td>\n",
       "      <td>[0.6206896551724138, 0.6091954022988506, 0.793...</td>\n",
       "      <td>0.684429</td>\n",
       "      <td>(card_merch_total_7, card_zip_total_3, card_me...</td>\n",
       "      <td>0.0972475</td>\n",
       "      <td>0.130935</td>\n",
       "      <td>0.0436452</td>\n",
       "      <td>5.0</td>\n",
       "      <td>card_state_total_30</td>\n",
       "    </tr>\n",
       "    <tr>\n",
       "      <th>6</th>\n",
       "      <td>(1, 2, 4, 24, 44, 53)</td>\n",
       "      <td>[0.632183908045977, 0.6091954022988506, 0.7931...</td>\n",
       "      <td>0.684416</td>\n",
       "      <td>(card_merch_total_7, card_zip_total_3, card_me...</td>\n",
       "      <td>0.1003</td>\n",
       "      <td>0.135046</td>\n",
       "      <td>0.0450153</td>\n",
       "      <td>6.0</td>\n",
       "      <td>card_merch_avg_14</td>\n",
       "    </tr>\n",
       "    <tr>\n",
       "      <th>7</th>\n",
       "      <td>(1, 2, 4, 24, 44, 53, 69)</td>\n",
       "      <td>[0.6436781609195402, 0.6091954022988506, 0.793...</td>\n",
       "      <td>0.685565</td>\n",
       "      <td>(card_merch_total_7, card_zip_total_3, card_me...</td>\n",
       "      <td>0.100002</td>\n",
       "      <td>0.134645</td>\n",
       "      <td>0.0448816</td>\n",
       "      <td>7.0</td>\n",
       "      <td>merch_state_avg_1</td>\n",
       "    </tr>\n",
       "    <tr>\n",
       "      <th>8</th>\n",
       "      <td>(1, 2, 4, 24, 44, 53, 65, 69)</td>\n",
       "      <td>[0.6436781609195402, 0.6091954022988506, 0.793...</td>\n",
       "      <td>0.685565</td>\n",
       "      <td>(card_merch_total_7, card_zip_total_3, card_me...</td>\n",
       "      <td>0.100002</td>\n",
       "      <td>0.134645</td>\n",
       "      <td>0.0448816</td>\n",
       "      <td>8.0</td>\n",
       "      <td>merch_zip_avg_0</td>\n",
       "    </tr>\n",
       "    <tr>\n",
       "      <th>9</th>\n",
       "      <td>(1, 2, 4, 24, 44, 53, 65, 66, 69)</td>\n",
       "      <td>[0.6436781609195402, 0.6091954022988506, 0.793...</td>\n",
       "      <td>0.685565</td>\n",
       "      <td>(card_merch_total_7, card_zip_total_3, card_me...</td>\n",
       "      <td>0.100002</td>\n",
       "      <td>0.134645</td>\n",
       "      <td>0.0448816</td>\n",
       "      <td>9.0</td>\n",
       "      <td>Merchnum_avg_0</td>\n",
       "    </tr>\n",
       "    <tr>\n",
       "      <th>10</th>\n",
       "      <td>(1, 2, 4, 24, 44, 53, 65, 66, 69, 72)</td>\n",
       "      <td>[0.6436781609195402, 0.6091954022988506, 0.793...</td>\n",
       "      <td>0.685565</td>\n",
       "      <td>(card_merch_total_7, card_zip_total_3, card_me...</td>\n",
       "      <td>0.100002</td>\n",
       "      <td>0.134645</td>\n",
       "      <td>0.0448816</td>\n",
       "      <td>10.0</td>\n",
       "      <td>merch_zip_avg_1</td>\n",
       "    </tr>\n",
       "    <tr>\n",
       "      <th>11</th>\n",
       "      <td>(1, 2, 4, 24, 44, 53, 65, 66, 69, 72, 78)</td>\n",
       "      <td>[0.6436781609195402, 0.6091954022988506, 0.793...</td>\n",
       "      <td>0.685565</td>\n",
       "      <td>(card_merch_total_7, card_zip_total_3, card_me...</td>\n",
       "      <td>0.100002</td>\n",
       "      <td>0.134645</td>\n",
       "      <td>0.0448816</td>\n",
       "      <td>11.0</td>\n",
       "      <td>Merchnum_avg_1</td>\n",
       "    </tr>\n",
       "    <tr>\n",
       "      <th>12</th>\n",
       "      <td>(1, 2, 4, 24, 44, 46, 53, 65, 66, 69, 72, 78)</td>\n",
       "      <td>[0.6206896551724138, 0.6091954022988506, 0.793...</td>\n",
       "      <td>0.683267</td>\n",
       "      <td>(card_merch_total_7, card_zip_total_3, card_me...</td>\n",
       "      <td>0.100663</td>\n",
       "      <td>0.135534</td>\n",
       "      <td>0.0451779</td>\n",
       "      <td>12.0</td>\n",
       "      <td>card_zip_avg_14</td>\n",
       "    </tr>\n",
       "    <tr>\n",
       "      <th>13</th>\n",
       "      <td>(1, 2, 4, 24, 44, 46, 53, 55, 65, 66, 69, 72, 78)</td>\n",
       "      <td>[0.632183908045977, 0.6091954022988506, 0.7931...</td>\n",
       "      <td>0.679791</td>\n",
       "      <td>(card_merch_total_7, card_zip_total_3, card_me...</td>\n",
       "      <td>0.0992327</td>\n",
       "      <td>0.133608</td>\n",
       "      <td>0.0445361</td>\n",
       "      <td>13.0</td>\n",
       "      <td>card_merch_avg_7</td>\n",
       "    </tr>\n",
       "    <tr>\n",
       "      <th>14</th>\n",
       "      <td>(1, 2, 4, 24, 44, 46, 53, 55, 61, 65, 66, 69, ...</td>\n",
       "      <td>[0.6436781609195402, 0.6091954022988506, 0.793...</td>\n",
       "      <td>0.677493</td>\n",
       "      <td>(card_merch_total_7, card_zip_total_3, card_me...</td>\n",
       "      <td>0.0984277</td>\n",
       "      <td>0.132525</td>\n",
       "      <td>0.0441749</td>\n",
       "      <td>14.0</td>\n",
       "      <td>merch_state_avg_0</td>\n",
       "    </tr>\n",
       "    <tr>\n",
       "      <th>15</th>\n",
       "      <td>(1, 2, 4, 24, 44, 46, 53, 55, 61, 65, 66, 67, ...</td>\n",
       "      <td>[0.5402298850574713, 0.5517241379310345, 0.781...</td>\n",
       "      <td>0.676303</td>\n",
       "      <td>(card_merch_total_7, card_zip_total_3, card_me...</td>\n",
       "      <td>0.0874041</td>\n",
       "      <td>0.117682</td>\n",
       "      <td>0.0392274</td>\n",
       "      <td>15.0</td>\n",
       "      <td>Cardnum_total_1</td>\n",
       "    </tr>\n",
       "    <tr>\n",
       "      <th>16</th>\n",
       "      <td>(1, 2, 3, 4, 24, 44, 46, 53, 55, 61, 65, 66, 6...</td>\n",
       "      <td>[0.5632183908045977, 0.5632183908045977, 0.781...</td>\n",
       "      <td>0.679751</td>\n",
       "      <td>(card_merch_total_7, card_zip_total_3, card_me...</td>\n",
       "      <td>0.0846538</td>\n",
       "      <td>0.113979</td>\n",
       "      <td>0.037993</td>\n",
       "      <td>16.0</td>\n",
       "      <td>card_merch_total_3</td>\n",
       "    </tr>\n",
       "    <tr>\n",
       "      <th>17</th>\n",
       "      <td>(1, 2, 3, 4, 24, 44, 46, 51, 53, 55, 61, 65, 6...</td>\n",
       "      <td>[0.5747126436781609, 0.5632183908045977, 0.781...</td>\n",
       "      <td>0.680901</td>\n",
       "      <td>(card_merch_total_7, card_zip_total_3, card_me...</td>\n",
       "      <td>0.0838156</td>\n",
       "      <td>0.112851</td>\n",
       "      <td>0.0376168</td>\n",
       "      <td>17.0</td>\n",
       "      <td>card_merch_avg_3</td>\n",
       "    </tr>\n",
       "    <tr>\n",
       "      <th>18</th>\n",
       "      <td>(1, 2, 3, 4, 24, 30, 44, 46, 51, 53, 55, 61, 6...</td>\n",
       "      <td>[0.5747126436781609, 0.5632183908045977, 0.781...</td>\n",
       "      <td>0.680901</td>\n",
       "      <td>(card_merch_total_7, card_zip_total_3, card_me...</td>\n",
       "      <td>0.0838156</td>\n",
       "      <td>0.112851</td>\n",
       "      <td>0.0376168</td>\n",
       "      <td>18.0</td>\n",
       "      <td>card_merch_total_0</td>\n",
       "    </tr>\n",
       "    <tr>\n",
       "      <th>19</th>\n",
       "      <td>(1, 2, 3, 4, 24, 30, 31, 44, 46, 51, 53, 55, 6...</td>\n",
       "      <td>[0.5747126436781609, 0.5632183908045977, 0.781...</td>\n",
       "      <td>0.680901</td>\n",
       "      <td>(card_merch_total_7, card_zip_total_3, card_me...</td>\n",
       "      <td>0.0838156</td>\n",
       "      <td>0.112851</td>\n",
       "      <td>0.0376168</td>\n",
       "      <td>19.0</td>\n",
       "      <td>card_state_total_0</td>\n",
       "    </tr>\n",
       "    <tr>\n",
       "      <th>20</th>\n",
       "      <td>(1, 2, 3, 4, 24, 30, 31, 32, 44, 46, 51, 53, 5...</td>\n",
       "      <td>[0.5747126436781609, 0.5632183908045977, 0.781...</td>\n",
       "      <td>0.680901</td>\n",
       "      <td>(card_merch_total_7, card_zip_total_3, card_me...</td>\n",
       "      <td>0.0838156</td>\n",
       "      <td>0.112851</td>\n",
       "      <td>0.0376168</td>\n",
       "      <td>20.0</td>\n",
       "      <td>card_zip_total_0</td>\n",
       "    </tr>\n",
       "  </tbody>\n",
       "</table>\n",
       "</div>"
      ],
      "text/plain": [
       "                                          feature_idx  \\\n",
       "1                                                (2,)   \n",
       "2                                             (2, 44)   \n",
       "3                                          (2, 4, 44)   \n",
       "4                                       (1, 2, 4, 44)   \n",
       "5                                   (1, 2, 4, 24, 44)   \n",
       "6                               (1, 2, 4, 24, 44, 53)   \n",
       "7                           (1, 2, 4, 24, 44, 53, 69)   \n",
       "8                       (1, 2, 4, 24, 44, 53, 65, 69)   \n",
       "9                   (1, 2, 4, 24, 44, 53, 65, 66, 69)   \n",
       "10              (1, 2, 4, 24, 44, 53, 65, 66, 69, 72)   \n",
       "11          (1, 2, 4, 24, 44, 53, 65, 66, 69, 72, 78)   \n",
       "12      (1, 2, 4, 24, 44, 46, 53, 65, 66, 69, 72, 78)   \n",
       "13  (1, 2, 4, 24, 44, 46, 53, 55, 65, 66, 69, 72, 78)   \n",
       "14  (1, 2, 4, 24, 44, 46, 53, 55, 61, 65, 66, 69, ...   \n",
       "15  (1, 2, 4, 24, 44, 46, 53, 55, 61, 65, 66, 67, ...   \n",
       "16  (1, 2, 3, 4, 24, 44, 46, 53, 55, 61, 65, 66, 6...   \n",
       "17  (1, 2, 3, 4, 24, 44, 46, 51, 53, 55, 61, 65, 6...   \n",
       "18  (1, 2, 3, 4, 24, 30, 44, 46, 51, 53, 55, 61, 6...   \n",
       "19  (1, 2, 3, 4, 24, 30, 31, 44, 46, 51, 53, 55, 6...   \n",
       "20  (1, 2, 3, 4, 24, 30, 31, 32, 44, 46, 51, 53, 5...   \n",
       "\n",
       "                                            cv_scores avg_score  \\\n",
       "1   [0.4482758620689655, 0.5632183908045977, 0.827...   0.61517   \n",
       "2   [0.6206896551724138, 0.6206896551724138, 0.724...  0.668351   \n",
       "3   [0.6206896551724138, 0.6091954022988506, 0.804...  0.679818   \n",
       "4   [0.6206896551724138, 0.6091954022988506, 0.793...   0.68213   \n",
       "5   [0.6206896551724138, 0.6091954022988506, 0.793...  0.684429   \n",
       "6   [0.632183908045977, 0.6091954022988506, 0.7931...  0.684416   \n",
       "7   [0.6436781609195402, 0.6091954022988506, 0.793...  0.685565   \n",
       "8   [0.6436781609195402, 0.6091954022988506, 0.793...  0.685565   \n",
       "9   [0.6436781609195402, 0.6091954022988506, 0.793...  0.685565   \n",
       "10  [0.6436781609195402, 0.6091954022988506, 0.793...  0.685565   \n",
       "11  [0.6436781609195402, 0.6091954022988506, 0.793...  0.685565   \n",
       "12  [0.6206896551724138, 0.6091954022988506, 0.793...  0.683267   \n",
       "13  [0.632183908045977, 0.6091954022988506, 0.7931...  0.679791   \n",
       "14  [0.6436781609195402, 0.6091954022988506, 0.793...  0.677493   \n",
       "15  [0.5402298850574713, 0.5517241379310345, 0.781...  0.676303   \n",
       "16  [0.5632183908045977, 0.5632183908045977, 0.781...  0.679751   \n",
       "17  [0.5747126436781609, 0.5632183908045977, 0.781...  0.680901   \n",
       "18  [0.5747126436781609, 0.5632183908045977, 0.781...  0.680901   \n",
       "19  [0.5747126436781609, 0.5632183908045977, 0.781...  0.680901   \n",
       "20  [0.5747126436781609, 0.5632183908045977, 0.781...  0.680901   \n",
       "\n",
       "                                        feature_names   ci_bound   std_dev  \\\n",
       "1                                 (card_zip_total_3,)   0.109339  0.147216   \n",
       "2               (card_zip_total_3, card_state_max_30)  0.0959979  0.129253   \n",
       "3   (card_zip_total_3, card_merch_total_14, card_s...  0.0976078  0.131421   \n",
       "4   (card_merch_total_7, card_zip_total_3, card_me...  0.0987269  0.132927   \n",
       "5   (card_merch_total_7, card_zip_total_3, card_me...  0.0972475  0.130935   \n",
       "6   (card_merch_total_7, card_zip_total_3, card_me...     0.1003  0.135046   \n",
       "7   (card_merch_total_7, card_zip_total_3, card_me...   0.100002  0.134645   \n",
       "8   (card_merch_total_7, card_zip_total_3, card_me...   0.100002  0.134645   \n",
       "9   (card_merch_total_7, card_zip_total_3, card_me...   0.100002  0.134645   \n",
       "10  (card_merch_total_7, card_zip_total_3, card_me...   0.100002  0.134645   \n",
       "11  (card_merch_total_7, card_zip_total_3, card_me...   0.100002  0.134645   \n",
       "12  (card_merch_total_7, card_zip_total_3, card_me...   0.100663  0.135534   \n",
       "13  (card_merch_total_7, card_zip_total_3, card_me...  0.0992327  0.133608   \n",
       "14  (card_merch_total_7, card_zip_total_3, card_me...  0.0984277  0.132525   \n",
       "15  (card_merch_total_7, card_zip_total_3, card_me...  0.0874041  0.117682   \n",
       "16  (card_merch_total_7, card_zip_total_3, card_me...  0.0846538  0.113979   \n",
       "17  (card_merch_total_7, card_zip_total_3, card_me...  0.0838156  0.112851   \n",
       "18  (card_merch_total_7, card_zip_total_3, card_me...  0.0838156  0.112851   \n",
       "19  (card_merch_total_7, card_zip_total_3, card_me...  0.0838156  0.112851   \n",
       "20  (card_merch_total_7, card_zip_total_3, card_me...  0.0838156  0.112851   \n",
       "\n",
       "      std_err  add variables in this order        variable name  \n",
       "1   0.0490721                          1.0     card_zip_total_3  \n",
       "2   0.0430844                          2.0    card_state_max_30  \n",
       "3   0.0438069                          3.0  card_merch_total_14  \n",
       "4   0.0443091                          4.0   card_merch_total_7  \n",
       "5   0.0436452                          5.0  card_state_total_30  \n",
       "6   0.0450153                          6.0    card_merch_avg_14  \n",
       "7   0.0448816                          7.0    merch_state_avg_1  \n",
       "8   0.0448816                          8.0      merch_zip_avg_0  \n",
       "9   0.0448816                          9.0       Merchnum_avg_0  \n",
       "10  0.0448816                         10.0      merch_zip_avg_1  \n",
       "11  0.0448816                         11.0       Merchnum_avg_1  \n",
       "12  0.0451779                         12.0      card_zip_avg_14  \n",
       "13  0.0445361                         13.0     card_merch_avg_7  \n",
       "14  0.0441749                         14.0    merch_state_avg_0  \n",
       "15  0.0392274                         15.0      Cardnum_total_1  \n",
       "16   0.037993                         16.0   card_merch_total_3  \n",
       "17  0.0376168                         17.0     card_merch_avg_3  \n",
       "18  0.0376168                         18.0   card_merch_total_0  \n",
       "19  0.0376168                         19.0   card_state_total_0  \n",
       "20  0.0376168                         20.0     card_zip_total_0  "
      ]
     },
     "execution_count": 23,
     "metadata": {},
     "output_type": "execute_result"
    }
   ],
   "source": [
    "ordered_vars_FS"
   ]
  },
  {
   "cell_type": "code",
   "execution_count": 24,
   "metadata": {
    "ExecuteTime": {
     "start_time": "2022-04-13T23:53:03.177Z"
    }
   },
   "outputs": [],
   "source": [
    "ordered_vars_FS.to_csv('VarsFS.csv', index=False)"
   ]
  },
  {
   "cell_type": "code",
   "execution_count": 25,
   "metadata": {
    "ExecuteTime": {
     "start_time": "2022-04-13T23:53:03.180Z"
    }
   },
   "outputs": [
    {
     "data": {
      "text/plain": [
       "1        card_zip_total_3\n",
       "2       card_state_max_30\n",
       "3     card_merch_total_14\n",
       "4      card_merch_total_7\n",
       "5     card_state_total_30\n",
       "6       card_merch_avg_14\n",
       "7       merch_state_avg_1\n",
       "8         merch_zip_avg_0\n",
       "9          Merchnum_avg_0\n",
       "10        merch_zip_avg_1\n",
       "11         Merchnum_avg_1\n",
       "12        card_zip_avg_14\n",
       "13       card_merch_avg_7\n",
       "14      merch_state_avg_0\n",
       "15        Cardnum_total_1\n",
       "16     card_merch_total_3\n",
       "17       card_merch_avg_3\n",
       "18     card_merch_total_0\n",
       "19     card_state_total_0\n",
       "20       card_zip_total_0\n",
       "Name: variable name, dtype: object"
      ]
     },
     "execution_count": 25,
     "metadata": {},
     "output_type": "execute_result"
    }
   ],
   "source": [
    "ordered_vars_FS['variable name']"
   ]
  },
  {
   "cell_type": "code",
   "execution_count": 26,
   "metadata": {
    "ExecuteTime": {
     "start_time": "2022-04-13T23:53:03.184Z"
    },
    "scrolled": true
   },
   "outputs": [],
   "source": [
    "vars_keep = ordered_vars_FS['variable name']\n",
    "vars_keep_list = ordered_vars_FS['variable name'].tolist()\n",
    "vars_keep.to_csv('final_vars_list.csv',index=False)"
   ]
  },
  {
   "cell_type": "code",
   "execution_count": 27,
   "metadata": {
    "ExecuteTime": {
     "start_time": "2022-04-13T23:53:03.186Z"
    }
   },
   "outputs": [
    {
     "data": {
      "text/plain": [
       "1        card_zip_total_3\n",
       "2       card_state_max_30\n",
       "3     card_merch_total_14\n",
       "4      card_merch_total_7\n",
       "5     card_state_total_30\n",
       "6       card_merch_avg_14\n",
       "7       merch_state_avg_1\n",
       "8         merch_zip_avg_0\n",
       "9          Merchnum_avg_0\n",
       "10        merch_zip_avg_1\n",
       "11         Merchnum_avg_1\n",
       "12        card_zip_avg_14\n",
       "13       card_merch_avg_7\n",
       "14      merch_state_avg_0\n",
       "15        Cardnum_total_1\n",
       "16     card_merch_total_3\n",
       "17       card_merch_avg_3\n",
       "18     card_merch_total_0\n",
       "19     card_state_total_0\n",
       "20       card_zip_total_0\n",
       "Name: variable name, dtype: object"
      ]
     },
     "execution_count": 27,
     "metadata": {},
     "output_type": "execute_result"
    }
   ],
   "source": [
    "vars_keep"
   ]
  },
  {
   "cell_type": "code",
   "execution_count": 28,
   "metadata": {
    "ExecuteTime": {
     "start_time": "2022-04-13T23:53:03.190Z"
    },
    "scrolled": false
   },
   "outputs": [
    {
     "data": {
      "text/plain": [
       "['card_zip_total_3',\n",
       " 'card_state_max_30',\n",
       " 'card_merch_total_14',\n",
       " 'card_merch_total_7',\n",
       " 'card_state_total_30',\n",
       " 'card_merch_avg_14',\n",
       " 'merch_state_avg_1',\n",
       " 'merch_zip_avg_0',\n",
       " 'Merchnum_avg_0',\n",
       " 'merch_zip_avg_1',\n",
       " 'Merchnum_avg_1',\n",
       " 'card_zip_avg_14',\n",
       " 'card_merch_avg_7',\n",
       " 'merch_state_avg_0',\n",
       " 'Cardnum_total_1',\n",
       " 'card_merch_total_3',\n",
       " 'card_merch_avg_3',\n",
       " 'card_merch_total_0',\n",
       " 'card_state_total_0',\n",
       " 'card_zip_total_0',\n",
       " 'Recnum',\n",
       " 'Fraud']"
      ]
     },
     "execution_count": 28,
     "metadata": {},
     "output_type": "execute_result"
    }
   ],
   "source": [
    "vars_keep_list.append(index_name)\n",
    "vars_keep_list.append(y_name)\n",
    "vars_keep_list"
   ]
  },
  {
   "cell_type": "code",
   "execution_count": 29,
   "metadata": {
    "ExecuteTime": {
     "start_time": "2022-04-13T23:53:03.192Z"
    }
   },
   "outputs": [],
   "source": [
    "df = pd.read_csv(file_name)"
   ]
  },
  {
   "cell_type": "code",
   "execution_count": 30,
   "metadata": {
    "ExecuteTime": {
     "start_time": "2022-04-13T23:53:03.199Z"
    }
   },
   "outputs": [
    {
     "name": "stdout",
     "output_type": "stream",
     "text": [
      "(96397, 22)\n"
     ]
    }
   ],
   "source": [
    "df_keep = df.filter(vars_keep_list, axis=1)\n",
    "print(df_keep.shape)"
   ]
  },
  {
   "cell_type": "code",
   "execution_count": 31,
   "metadata": {
    "ExecuteTime": {
     "start_time": "2022-04-13T23:53:03.233Z"
    }
   },
   "outputs": [],
   "source": [
    "df_keep.to_csv('vars_final.csv',index=False)"
   ]
  },
  {
   "cell_type": "code",
   "execution_count": 32,
   "metadata": {
    "ExecuteTime": {
     "start_time": "2022-04-13T23:53:03.242Z"
    }
   },
   "outputs": [
    {
     "name": "stdout",
     "output_type": "stream",
     "text": [
      "time to here: 0:43:21.230945\n"
     ]
    }
   ],
   "source": [
    "print('time to here:', dt.datetime.now() - start_time)"
   ]
  },
  {
   "cell_type": "code",
   "execution_count": null,
   "metadata": {},
   "outputs": [],
   "source": []
  },
  {
   "cell_type": "code",
   "execution_count": null,
   "metadata": {},
   "outputs": [],
   "source": []
  }
 ],
 "metadata": {
  "anaconda-cloud": {},
  "kernelspec": {
   "display_name": "Python 3",
   "language": "python",
   "name": "python3"
  },
  "language_info": {
   "codemirror_mode": {
    "name": "ipython",
    "version": 3
   },
   "file_extension": ".py",
   "mimetype": "text/x-python",
   "name": "python",
   "nbconvert_exporter": "python",
   "pygments_lexer": "ipython3",
   "version": "3.7.10"
  }
 },
 "nbformat": 4,
 "nbformat_minor": 1
}
